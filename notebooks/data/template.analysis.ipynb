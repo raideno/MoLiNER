{
 "cells": [
  {
   "cell_type": "code",
   "execution_count": 1,
   "id": "43e26280",
   "metadata": {},
   "outputs": [],
   "source": [
    "# TODO: add stats about gaps between spans."
   ]
  },
  {
   "cell_type": "code",
   "execution_count": 2,
   "id": "0b7a5ccc",
   "metadata": {},
   "outputs": [],
   "source": [
    "%load_ext autoreload\n",
    "%autoreload 2"
   ]
  },
  {
   "cell_type": "code",
   "execution_count": 3,
   "id": "fc580b36",
   "metadata": {},
   "outputs": [
    {
     "name": "stdout",
     "output_type": "stream",
     "text": [
      "[sys.path]: ['/Users/nadir/.pyenv/versions/3.12.8/lib/python312.zip', '/Users/nadir/.pyenv/versions/3.12.8/lib/python3.12', '/Users/nadir/.pyenv/versions/3.12.8/lib/python3.12/lib-dynload', '', '/Users/nadir/Documents/dev/MoLiNER/.venv/lib/python3.12/site-packages', '../../']\n"
     ]
    }
   ],
   "source": [
    "import sys\n",
    "\n",
    "if \"../../\" not in sys.path:\n",
    "    sys.path.append(\"../../\")\n",
    "    print(\"[sys.path]:\", sys.path)"
   ]
  },
  {
   "cell_type": "code",
   "execution_count": 4,
   "id": "61f6b459",
   "metadata": {},
   "outputs": [
    {
     "name": "stderr",
     "output_type": "stream",
     "text": [
      "/Users/nadir/Documents/dev/MoLiNER/.venv/lib/python3.12/site-packages/tqdm/auto.py:21: TqdmWarning: IProgress not found. Please update jupyter and ipywidgets. See https://ipywidgets.readthedocs.io/en/stable/user_install.html\n",
      "  from .autonotebook import tqdm as notebook_tqdm\n"
     ]
    }
   ],
   "source": [
    "from src.data.babel import BabelDataset\n",
    "from src.data.hml3d import HML3DDataset"
   ]
  },
  {
   "cell_type": "code",
   "execution_count": 5,
   "id": "c9efa638",
   "metadata": {},
   "outputs": [],
   "source": [
    "DECILES = [1, 2, 2.5, 3, 4, 5, 6, 7, 7.5, 8, 9, 9.5, 9.75, 9.99]"
   ]
  },
  {
   "cell_type": "code",
   "execution_count": 6,
   "id": "2849ee66",
   "metadata": {
    "tags": [
     "parameters"
    ]
   },
   "outputs": [],
   "source": [
    "# Parameters\n",
    "dataset_name = \"hml3d\"\n",
    "pipeline_name = \"hml3d\"\n",
    "split_names = [\"train\", \"validation\", \"test\"]"
   ]
  },
  {
   "cell_type": "code",
   "execution_count": 7,
   "id": "0394f7d7",
   "metadata": {},
   "outputs": [],
   "source": [
    "dataset_classes = {\n",
    "    \"babel\": BabelDataset,\n",
    "    \"hml3d\": HML3DDataset\n",
    "}"
   ]
  },
  {
   "cell_type": "code",
   "execution_count": 8,
   "id": "6709cdce",
   "metadata": {},
   "outputs": [
    {
     "name": "stdout",
     "output_type": "stream",
     "text": [
      "[parameters]: dataset_name = hml3d\n"
     ]
    }
   ],
   "source": [
    "if dataset_name not in dataset_classes.keys():\n",
    "    raise ValueError(f\"Dataset name must be one of {dataset_names}\")\n",
    "else:\n",
    "    print(f\"[parameters]: dataset_name = {dataset_name}\")"
   ]
  },
  {
   "cell_type": "code",
   "execution_count": 9,
   "id": "051ef4e6",
   "metadata": {},
   "outputs": [
    {
     "name": "stdout",
     "output_type": "stream",
     "text": [
      "[parameters]: pipeline 'hml3d' is registered and available.\n"
     ]
    }
   ],
   "source": [
    "from src.data.pipelines._registery import PIPELINE_REGISTRY\n",
    "\n",
    "pipeline_names = [name for names in PIPELINE_REGISTRY.values() for name in names]\n",
    "\n",
    "if pipeline_name not in pipeline_names:\n",
    "    raise ValueError(f\"Pipeline '{pipeline_name}' is not registered. Available pipelines: {pipeline_names}\")\n",
    "else:\n",
    "    print(f\"[parameters]: pipeline '{pipeline_name}' is registered and available.\")"
   ]
  },
  {
   "cell_type": "code",
   "execution_count": null,
   "id": "61fe57e8",
   "metadata": {},
   "outputs": [],
   "source": [
    "split_datasets = [\n",
    "    dataset_classes[dataset_name](\n",
    "        split=split_name,\n",
    "        pipeline=pipeline_name\n",
    "    ) for split_name in split_names\n",
    "]"
   ]
  },
  {
   "cell_type": "code",
   "execution_count": 10,
   "id": "d9571663",
   "metadata": {},
   "outputs": [
    {
     "ename": "NameError",
     "evalue": "name 'split_datasets' is not defined",
     "output_type": "error",
     "traceback": [
      "\u001b[0;31m---------------------------------------------------------------------------\u001b[0m",
      "\u001b[0;31mNameError\u001b[0m                                 Traceback (most recent call last)",
      "Cell \u001b[0;32mIn[10], line 1\u001b[0m\n\u001b[0;32m----> 1\u001b[0m \u001b[38;5;28;01mfor\u001b[39;00m dataset, split_name \u001b[38;5;129;01min\u001b[39;00m \u001b[38;5;28mzip\u001b[39m(\u001b[43msplit_datasets\u001b[49m, split_names):\n\u001b[1;32m      2\u001b[0m     \u001b[38;5;28mprint\u001b[39m(\u001b[38;5;124mf\u001b[39m\u001b[38;5;124m\"\u001b[39m\u001b[38;5;124m[#\u001b[39m\u001b[38;5;132;01m{\u001b[39;00msplit_name\u001b[38;5;132;01m}\u001b[39;00m\u001b[38;5;124m]:\u001b[39m\u001b[38;5;124m\"\u001b[39m, \u001b[38;5;28mlen\u001b[39m(dataset))\n",
      "\u001b[0;31mNameError\u001b[0m: name 'split_datasets' is not defined"
     ]
    }
   ],
   "source": [
    "for dataset, split_name in zip(split_datasets, split_names):\n",
    "    print(f\"[#{split_name}]:\", len(dataset))"
   ]
  },
  {
   "cell_type": "code",
   "execution_count": 11,
   "id": "3365a49e",
   "metadata": {},
   "outputs": [],
   "source": [
    "import numpy as np\n",
    "import pandas as pd\n",
    "import seaborn as sns\n",
    "import matplotlib.pyplot as plt\n",
    "\n",
    "from collections import Counter, defaultdict\n",
    "\n",
    "from src.constants import (\n",
    "    DEFAULT_FPS\n",
    ")"
   ]
  },
  {
   "cell_type": "code",
   "execution_count": 12,
   "id": "b8641dde",
   "metadata": {},
   "outputs": [],
   "source": [
    "plt.style.use('default')\n",
    "sns.set_palette(\"husl\")"
   ]
  },
  {
   "cell_type": "code",
   "execution_count": 13,
   "id": "c41f4050",
   "metadata": {},
   "outputs": [],
   "source": [
    "from notebooks.data.helpers import get_analysis_with_cache"
   ]
  },
  {
   "cell_type": "code",
   "execution_count": 16,
   "id": "fdb1e128",
   "metadata": {},
   "outputs": [
    {
     "ename": "NameError",
     "evalue": "name 'split_datasets' is not defined",
     "output_type": "error",
     "traceback": [
      "\u001b[0;31m---------------------------------------------------------------------------\u001b[0m",
      "\u001b[0;31mNameError\u001b[0m                                 Traceback (most recent call last)",
      "Cell \u001b[0;32mIn[16], line 7\u001b[0m\n\u001b[1;32m      1\u001b[0m analyses \u001b[38;5;241m=\u001b[39m [\n\u001b[1;32m      2\u001b[0m     get_analysis_with_cache(\n\u001b[1;32m      3\u001b[0m         dataset\u001b[38;5;241m=\u001b[39msplit_dataset,\n\u001b[1;32m      4\u001b[0m         dataset_name\u001b[38;5;241m=\u001b[39mdataset_name,\n\u001b[1;32m      5\u001b[0m         pipeline_name\u001b[38;5;241m=\u001b[39mpipeline_name,\n\u001b[1;32m      6\u001b[0m         split_name\u001b[38;5;241m=\u001b[39msplit_name\n\u001b[0;32m----> 7\u001b[0m     ) \u001b[38;5;28;01mfor\u001b[39;00m split_dataset, split_name \u001b[38;5;129;01min\u001b[39;00m \u001b[38;5;28mzip\u001b[39m(\u001b[43msplit_datasets\u001b[49m, split_names)\n\u001b[1;32m      8\u001b[0m ]\n",
      "\u001b[0;31mNameError\u001b[0m: name 'split_datasets' is not defined"
     ]
    }
   ],
   "source": [
    "analyses = [\n",
    "    get_analysis_with_cache(\n",
    "        dataset=split_dataset,\n",
    "        dataset_name=dataset_name,\n",
    "        pipeline_name=pipeline_name,\n",
    "        split_name=split_name\n",
    "    ) for split_dataset, split_name in zip(split_datasets, split_names)\n",
    "]"
   ]
  },
  {
   "cell_type": "code",
   "execution_count": null,
   "id": "8b0c1090",
   "metadata": {},
   "outputs": [],
   "source": [
    "print(\"=== BASIC STATISTICS ===\")\n",
    "for split_dataset, split_name in zip(split_datasets, split_names):    \n",
    "    print(f\"[{split_name}-dataset]: {len(split_dataset)} samples\")\n",
    "print()\n",
    "\n",
    "for analysis in analyses:\n",
    "    name = analysis['dataset_name']\n",
    "    print(f\"{name} Dataset:\")\n",
    "    print(f\"  Total prompts: {len(analysis['all_prompts'])}\")\n",
    "    print(f\"  Unique prompts: {len(set(analysis['all_prompts']))}\")\n",
    "    print(f\"  Avg prompts per sample: {np.mean(analysis['sample_prompt_counts']):.2f}\")\n",
    "    print(f\"  Min prompts per sample: {np.min(analysis['sample_prompt_counts'])}\")\n",
    "    print(f\"  Max prompts per sample: {np.max(analysis['sample_prompt_counts'])}\")\n",
    "    print()\n",
    "    \n",
    "    print(f\"  Source distribution:\")\n",
    "    for source, count in analysis['source_counts'].items():\n",
    "        print(f\"    {source}: {count} ({count/len(analysis['all_prompts'])*100:.1f}%)\")\n",
    "    print()\n",
    "    \n",
    "    print(f\"  Sequence vs Frame annotations:\")\n",
    "    for is_seq, count in analysis['is_sequence_counts'].items():\n",
    "        label = \"Sequence\" if is_seq else \"Frame\"\n",
    "        print(f\"    {label}: {count} ({count/len(analysis['all_prompts'])*100:.1f}%)\")\n",
    "    print()\n",
    "    \n",
    "    if analysis['durations']:\n",
    "        print(f\"  Duration statistics (frames):\")\n",
    "        print(f\"    Min: {np.min(analysis['durations'])} frames ({np.min(analysis['durations'])/DEFAULT_FPS:.2f}s)\")\n",
    "        print(f\"    Mean: {np.mean(analysis['durations']):.2f} frames ({np.mean(analysis['durations'])/DEFAULT_FPS:.2f}s)\")\n",
    "        print(f\"    Max: {np.max(analysis['durations'])} frames ({np.max(analysis['durations'])/DEFAULT_FPS:.2f}s)\")\n",
    "        print(f\"    Std: {np.std(analysis['durations']):.2f} frames ({np.std(analysis['durations'])/DEFAULT_FPS:.2f}s)\")\n",
    "    print(\"-\" * 50)"
   ]
  },
  {
   "cell_type": "markdown",
   "id": "468160eb",
   "metadata": {},
   "source": [
    "<div class=\"alert alert-info\">\n",
    "\n",
    "#### **Number of Motions**\n",
    "\n",
    "This shows the total number of motion sequences in each dataset split.\n",
    "\n",
    "</div>"
   ]
  },
  {
   "cell_type": "code",
   "execution_count": null,
   "id": "43b5458f",
   "metadata": {},
   "outputs": [],
   "source": [
    "fig, ax = plt.subplots(1, 1, figsize=(8, 6))\n",
    "\n",
    "motion_counts = [len(analysis['motion_lengths_frames']) for analysis in analyses]\n",
    "colors = sns.color_palette(\"husl\", len(motion_counts))\n",
    "\n",
    "bars = ax.bar(split_names, motion_counts, color=colors, alpha=0.7)\n",
    "ax.set_title('Number of Motions per Dataset')\n",
    "ax.set_ylabel('Number of Motions')\n",
    "ax.grid(True, alpha=0.3)\n",
    "\n",
    "for bar, count in zip(bars, motion_counts):\n",
    "    ax.text(bar.get_x() + bar.get_width()/2, bar.get_height() + max(motion_counts)*0.01, \n",
    "            str(count), ha='center', va='bottom', fontweight='bold')\n",
    "\n",
    "plt.tight_layout()\n",
    "plt.show()"
   ]
  },
  {
   "cell_type": "markdown",
   "id": "286cee23",
   "metadata": {},
   "source": [
    "<div class=\"alert alert-info\">\n",
    "\n",
    "#### **Motion Length Distribution**\n",
    "\n",
    "This shows the distribution of motion sequence lengths in both frames and seconds, with horizontal lines indicating minimum, maximum, and average values.\n",
    "\n",
    "</div>"
   ]
  },
  {
   "cell_type": "code",
   "execution_count": null,
   "id": "aeda5fd2",
   "metadata": {},
   "outputs": [],
   "source": [
    "fig, axes = plt.subplots(len(analyses), 2, figsize=(15, 10))\n",
    "fig.suptitle('Motion Length Distribution', fontsize=16)\n",
    "\n",
    "for i, analysis in enumerate(analyses):\n",
    "    name = analysis['split_name']\n",
    "    lengths_frames = analysis['motion_lengths_frames']\n",
    "    lengths_seconds = analysis['motion_lengths_seconds']\n",
    "    \n",
    "    if lengths_frames:\n",
    "        # NOTE: frames distribution\n",
    "        axes[i, 0].hist(lengths_frames, bins=30, alpha=0.7, color=f'C{i}')\n",
    "        axes[i, 0].set_title(f'{name} - Motion Length (Frames)')\n",
    "        axes[i, 0].set_xlabel('Length (frames)')\n",
    "        axes[i, 0].set_ylabel('Frequency')\n",
    "        axes[i, 0].grid(True, alpha=0.3)\n",
    "        \n",
    "        min_frames = np.min(lengths_frames)\n",
    "        max_frames = np.max(lengths_frames)\n",
    "        avg_frames = np.mean(lengths_frames)\n",
    "        \n",
    "        axes[i, 0].axvline(min_frames, color='red', linestyle='--', alpha=0.7, label=f'Min: {min_frames}')\n",
    "        axes[i, 0].axvline(max_frames, color='orange', linestyle='--', alpha=0.7, label=f'Max: {max_frames}')\n",
    "        axes[i, 0].axvline(avg_frames, color='green', linestyle='--', alpha=0.7, label=f'Avg: {avg_frames:.1f}')\n",
    "        \n",
    "        for d in DECILES:\n",
    "            decile = np.percentile(lengths_frames, d*10)\n",
    "            # axes[i, 0].axvline(decile, color='gray', linestyle='-.', alpha=0.5, label=f'D{d}: {decile:.1f}')\n",
    "            axes[i, 0].axvline(\n",
    "                decile,\n",
    "                color='gray',\n",
    "                linestyle='-.',\n",
    "                alpha=0.5,\n",
    "                label=f'D{d}: {decile:.1f} ({d*10:.0f}%) - N={int(len(lengths_frames)*d/10):,}'\n",
    "            )\n",
    "        axes[i, 0].legend()\n",
    "        \n",
    "        # NOTE: seconds distribution\n",
    "        axes[i, 1].hist(lengths_seconds, bins=30, alpha=0.7, color=f'C{i}')\n",
    "        axes[i, 1].set_title(f'{name} - Motion Length (Seconds)')\n",
    "        axes[i, 1].set_xlabel('Length (seconds)')\n",
    "        axes[i, 1].set_ylabel('Frequency')\n",
    "        axes[i, 1].grid(True, alpha=0.3)\n",
    "        \n",
    "        min_seconds = np.min(lengths_seconds)\n",
    "        max_seconds = np.max(lengths_seconds)\n",
    "        avg_seconds = np.mean(lengths_seconds)\n",
    "        \n",
    "        axes[i, 1].axvline(min_seconds, color='red', linestyle='--', alpha=0.7, label=f'Min: {min_seconds:.1f}s')\n",
    "        axes[i, 1].axvline(max_seconds, color='orange', linestyle='--', alpha=0.7, label=f'Max: {max_seconds:.1f}s')\n",
    "        axes[i, 1].axvline(avg_seconds, color='green', linestyle='--', alpha=0.7, label=f'Avg: {avg_seconds:.1f}s')\n",
    "        \n",
    "        for d in DECILES:\n",
    "            decile = np.percentile(lengths_seconds, d*10)\n",
    "            # axes[i, 1].axvline(decile, color='gray', linestyle='-.', alpha=0.5, label=f'D{d}: {decile:.1f}s')\n",
    "            axes[i, 1].axvline(\n",
    "                decile,\n",
    "                color='gray',\n",
    "                linestyle='-.',\n",
    "                alpha=0.5,\n",
    "                label=f'D{d}: {decile:.1f} ({d*10:.0f}%) - N={int(len(lengths_seconds)*d/10):,}'\n",
    "            )\n",
    "        axes[i, 1].legend()\n",
    "\n",
    "plt.tight_layout()\n",
    "plt.show()"
   ]
  },
  {
   "cell_type": "markdown",
   "id": "100201d7",
   "metadata": {},
   "source": [
    "<div class=\"alert alert-info\">\n",
    "\n",
    "#### **Prompts per Motion Distribution**\n",
    "\n",
    "This shows how many prompts are associated with each motion sequence, with horizontal lines indicating minimum, maximum, and average values.\n",
    "\n",
    "</div>"
   ]
  },
  {
   "cell_type": "code",
   "execution_count": null,
   "id": "2234e1f6",
   "metadata": {},
   "outputs": [],
   "source": [
    "fig, axes = plt.subplots(1, len(analyses), figsize=(15, 6))\n",
    "fig.suptitle('Prompts per Motion Distribution', fontsize=16)\n",
    "\n",
    "for i, analysis in enumerate(analyses):\n",
    "    name = analysis['split_name']\n",
    "    prompts_per_motion = analysis['sample_prompt_counts']\n",
    "    \n",
    "    if prompts_per_motion:\n",
    "        axes[i].hist(prompts_per_motion, bins=30, alpha=0.7, color=f'C{i}')\n",
    "        axes[i].set_title(f'{name} - Prompts per Motion')\n",
    "        axes[i].set_xlabel('Number of Prompts')\n",
    "        axes[i].set_ylabel('Frequency')\n",
    "        axes[i].grid(True, alpha=0.3)\n",
    "        \n",
    "        min_prompts = np.min(prompts_per_motion)\n",
    "        max_prompts = np.max(prompts_per_motion)\n",
    "        avg_prompts = np.mean(prompts_per_motion)\n",
    "        \n",
    "        axes[i].axvline(min_prompts, color='red', linestyle='--', alpha=0.7, label=f'Min: {min_prompts}')\n",
    "        axes[i].axvline(max_prompts, color='orange', linestyle='--', alpha=0.7, label=f'Max: {max_prompts}')\n",
    "        axes[i].axvline(avg_prompts, color='green', linestyle='--', alpha=0.7, label=f'Avg: {avg_prompts:.1f}')\n",
    "        \n",
    "        for d in DECILES:\n",
    "            decile = np.percentile(prompts_per_motion, d*10)\n",
    "            # axes[i].axvline(decile, color='gray', linestyle='-.', alpha=0.5, label=f'D{d}: {decile:.1f}')\n",
    "            axes[i].axvline(\n",
    "                decile,\n",
    "                color='gray',\n",
    "                linestyle='-.',\n",
    "                alpha=0.5,\n",
    "                label=f'D{d}: {decile:.1f} ({d*10:.0f}%) - N={int(len(prompts_per_motion)*d/10):,}'\n",
    "            )\n",
    "        axes[i].legend()\n",
    "\n",
    "plt.tight_layout()\n",
    "plt.show()"
   ]
  },
  {
   "cell_type": "markdown",
   "id": "8df39b94",
   "metadata": {},
   "source": [
    "<div class=\"alert alert-info\">\n",
    "\n",
    "#### **Unique Prompts per Motion Distribution**\n",
    "\n",
    "This shows the distribution of the number of unique prompts per motion sequence.\n",
    "\n",
    "</div>"
   ]
  },
  {
   "cell_type": "code",
   "execution_count": null,
   "id": "739fadbf",
   "metadata": {},
   "outputs": [],
   "source": [
    "fig, axes = plt.subplots(1, len(analyses), figsize=(15, 6))\n",
    "fig.suptitle('Unique Prompts per Motion Distribution', fontsize=16)\n",
    "\n",
    "for i, analysis in enumerate(analyses):\n",
    "    name = analysis['split_name']\n",
    "    all_prompts = analysis['all_prompts']\n",
    "    sample_prompt_counts = analysis['sample_prompt_counts']\n",
    "    \n",
    "    unique_counts = []\n",
    "    idx = 0\n",
    "    for count in sample_prompt_counts:\n",
    "        prompts = all_prompts[idx:idx+count]\n",
    "        unique_counts.append(len(set(prompts)))\n",
    "        idx += count\n",
    "\n",
    "    if unique_counts:\n",
    "        axes[i].hist(unique_counts, bins=30, alpha=0.7, color=f'C{i}')\n",
    "        axes[i].set_title(f'{name} - Unique Prompts per Motion')\n",
    "        axes[i].set_xlabel('Number of Unique Prompts')\n",
    "        axes[i].set_ylabel('Frequency')\n",
    "        axes[i].grid(True, alpha=0.3)\n",
    "\n",
    "        min_val = np.min(unique_counts)\n",
    "        max_val = np.max(unique_counts)\n",
    "        avg_val = np.mean(unique_counts)\n",
    "\n",
    "        axes[i].axvline(min_val, color='red', linestyle='--', alpha=0.7, label=f'Min: {min_val}')\n",
    "        axes[i].axvline(max_val, color='orange', linestyle='--', alpha=0.7, label=f'Max: {max_val}')\n",
    "        axes[i].axvline(avg_val, color='green', linestyle='--', alpha=0.7, label=f'Avg: {avg_val:.1f}')\n",
    "        \n",
    "        for d in DECILES:\n",
    "            decile = np.percentile(unique_counts, d*10)\n",
    "            # axes[i].axvline(decile, color='gray', linestyle='-.', alpha=0.5, label=f'D{d}: {decile:.1f}')\n",
    "            axes[i].axvline(\n",
    "                decile,\n",
    "                color='gray',\n",
    "                linestyle='-.',\n",
    "                alpha=0.5,\n",
    "                label=f'D{d}: {decile:.1f} ({d*10:.0f}%) - N={int(len(unique_counts)*d/10):,}'\n",
    "            )\n",
    "            \n",
    "        axes[i].legend()\n",
    "\n",
    "plt.tight_layout()\n",
    "plt.show()"
   ]
  },
  {
   "cell_type": "markdown",
   "id": "95d6d29f",
   "metadata": {},
   "source": [
    "<div class=\"alert alert-info\">\n",
    "\n",
    "#### **Spans per Motion Distribution**\n",
    "\n",
    "This shows how many spans (temporal segments) are associated with each motion sequence, with horizontal lines indicating minimum, maximum, and average values.\n",
    "\n",
    "</div>"
   ]
  },
  {
   "cell_type": "code",
   "execution_count": null,
   "id": "be07da34",
   "metadata": {},
   "outputs": [],
   "source": [
    "fig, axes = plt.subplots(1, len(analyses), figsize=(15, 6))\n",
    "fig.suptitle('Spans per Motion Distribution', fontsize=16)\n",
    "\n",
    "for i, analysis in enumerate(analyses):\n",
    "    name = analysis['split_name']\n",
    "    spans_per_motion = analysis['spans_per_motion']\n",
    "    \n",
    "    if spans_per_motion:\n",
    "        axes[i].hist(spans_per_motion, bins=30, alpha=0.7, color=f'C{i}')\n",
    "        axes[i].set_title(f'{name} - Spans per Motion')\n",
    "        axes[i].set_xlabel('Number of Spans')\n",
    "        axes[i].set_ylabel('Frequency')\n",
    "        axes[i].grid(True, alpha=0.3)\n",
    "        \n",
    "        min_spans = np.min(spans_per_motion)\n",
    "        max_spans = np.max(spans_per_motion)\n",
    "        avg_spans = np.mean(spans_per_motion)\n",
    "        \n",
    "        axes[i].axvline(min_spans, color='red', linestyle='--', alpha=0.7, label=f'Min: {min_spans}')\n",
    "        axes[i].axvline(max_spans, color='orange', linestyle='--', alpha=0.7, label=f'Max: {max_spans}')\n",
    "        axes[i].axvline(avg_spans, color='green', linestyle='--', alpha=0.7, label=f'Avg: {avg_spans:.1f}')\n",
    "        \n",
    "        for d in DECILES:\n",
    "            decile = np.percentile(spans_per_motion, d*10)\n",
    "            # axes[i].axvline(decile, color='gray', linestyle='-.', alpha=0.5, label=f'D{d}: {decile:.1f}')\n",
    "            axes[i].axvline(\n",
    "                decile,\n",
    "                color='gray',\n",
    "                linestyle='-.',\n",
    "                alpha=0.5,\n",
    "                label=f'D{d}: {decile:.1f} ({d*10:.0f}%) - N={int(len(spans_per_motion)*d/10):,}'\n",
    "            )\n",
    "        axes[i].legend()\n",
    "\n",
    "plt.tight_layout()\n",
    "plt.show()"
   ]
  },
  {
   "cell_type": "markdown",
   "id": "4ad3ba81",
   "metadata": {},
   "source": [
    "<div class=\"alert alert-info\">\n",
    "\n",
    "#### **Spans Duration Distribution**\n",
    "\n",
    "This shows the distribution of individual span durations in frames, with horizontal lines indicating minimum, maximum, and average values.\n",
    "\n",
    "</div>"
   ]
  },
  {
   "cell_type": "code",
   "execution_count": null,
   "id": "c23c3857",
   "metadata": {},
   "outputs": [],
   "source": [
    "fig, axes = plt.subplots(1, len(analyses), figsize=(15, 6))\n",
    "fig.suptitle('Spans Duration Distribution', fontsize=16)\n",
    "\n",
    "for i, analysis in enumerate(analyses):\n",
    "    name = analysis['split_name']\n",
    "    span_durations = analysis['durations']\n",
    "    \n",
    "    if span_durations:\n",
    "        axes[i].hist(span_durations, bins=30, alpha=0.7, color=f'C{i}')\n",
    "        axes[i].set_title(f'{name} - Span Duration (Frames)')\n",
    "        axes[i].set_xlabel('Duration (frames)')\n",
    "        axes[i].set_ylabel('Frequency')\n",
    "        axes[i].grid(True, alpha=0.3)\n",
    "        \n",
    "        min_duration = np.min(span_durations)\n",
    "        max_duration = np.max(span_durations)\n",
    "        avg_duration = np.mean(span_durations)\n",
    "        \n",
    "        axes[i].axvline(min_duration, color='red', linestyle='--', alpha=0.7, label=f'Min: {min_duration}')\n",
    "        axes[i].axvline(max_duration, color='orange', linestyle='--', alpha=0.7, label=f'Max: {max_duration}')\n",
    "        axes[i].axvline(avg_duration, color='green', linestyle='--', alpha=0.7, label=f'Avg: {avg_duration:.1f}')\n",
    "        \n",
    "        for d in DECILES:\n",
    "            decile = np.percentile(span_durations, d*10)\n",
    "            # axes[i].axvline(decile, color='gray', linestyle='-.', alpha=0.5, label=f'D{d}: {decile:.1f}')\n",
    "            axes[i].axvline(\n",
    "                decile,\n",
    "                color='gray',\n",
    "                linestyle='-.',\n",
    "                alpha=0.5,\n",
    "                label=f'D{d}: {decile:.1f} ({d*10:.0f}%) - N={int(len(span_durations)*d/10):,}'\n",
    "            )\n",
    "        axes[i].legend()\n",
    "\n",
    "plt.tight_layout()\n",
    "plt.show()"
   ]
  },
  {
   "cell_type": "markdown",
   "id": "9ec48873",
   "metadata": {},
   "source": [
    "<div class=\"alert alert-info\">\n",
    "\n",
    "#### **Total Spans per Motion (Per Motion Analysis)**\n",
    "\n",
    "This shows the total span duration per motion sequence, indicating how much of each motion is covered by annotated spans.\n",
    "\n",
    "</div>"
   ]
  },
  {
   "cell_type": "code",
   "execution_count": null,
   "id": "7df14659",
   "metadata": {},
   "outputs": [],
   "source": [
    "fig, axes = plt.subplots(1, len(analyses), figsize=(15, 6))\n",
    "fig.suptitle('Total Spans Duration per Motion', fontsize=16)\n",
    "\n",
    "for i, analysis in enumerate(analyses):\n",
    "    name = analysis['split_name']\n",
    "    spans_durations_per_motion = analysis['spans_durations_per_motion']\n",
    "    \n",
    "    if spans_durations_per_motion:\n",
    "        axes[i].hist(spans_durations_per_motion, bins=30, alpha=0.7, color=f'C{i}')\n",
    "        axes[i].set_title(f'{name} - Total Spans Duration per Motion')\n",
    "        axes[i].set_xlabel('Total Duration (frames)')\n",
    "        axes[i].set_ylabel('Number of Motions')\n",
    "        axes[i].grid(True, alpha=0.3)\n",
    "        \n",
    "        min_duration = np.min(spans_durations_per_motion)\n",
    "        max_duration = np.max(spans_durations_per_motion)\n",
    "        avg_duration = np.mean(spans_durations_per_motion)\n",
    "        \n",
    "        axes[i].axvline(min_duration, color='red', linestyle='--', alpha=0.7, label=f'Min: {min_duration}')\n",
    "        axes[i].axvline(max_duration, color='orange', linestyle='--', alpha=0.7, label=f'Max: {max_duration}')\n",
    "        axes[i].axvline(avg_duration, color='green', linestyle='--', alpha=0.7, label=f'Avg: {avg_duration:.1f}')\n",
    "        \n",
    "        for d in DECILES:\n",
    "            decile = np.percentile(spans_durations_per_motion, d*10)\n",
    "            # axes[i].axvline(decile, color='gray', linestyle='-.', alpha=0.5, label=f'D{d}: {decile:.1f}')\n",
    "            axes[i].axvline(\n",
    "                decile,\n",
    "                color='gray',\n",
    "                linestyle='-.',\n",
    "                alpha=0.5,\n",
    "                label=f'D{d}: {decile:.1f} ({d*10:.0f}%) - N={int(len(spans_durations_per_motion)*d/10):,}'\n",
    "            )\n",
    "        axes[i].legend()\n",
    "\n",
    "plt.tight_layout()\n",
    "plt.show()"
   ]
  },
  {
   "cell_type": "markdown",
   "id": "c7031a8e",
   "metadata": {},
   "source": [
    "<div class=\"alert alert-info\">\n",
    "\n",
    "#### **Proportion Analysis**\n",
    "\n",
    "This shows the distribution (number of samples) for the different span coverage values.\n",
    "\n",
    "</div>"
   ]
  },
  {
   "cell_type": "code",
   "execution_count": null,
   "id": "2260c006",
   "metadata": {},
   "outputs": [],
   "source": [
    "def calculate_span_coverage(analysis):\n",
    "    \"\"\"\n",
    "    Calculate span coverage for each motion in the analysis.\n",
    "    Coverage = total_spans_duration / motion_length\n",
    "    \"\"\"\n",
    "    coverage_values = []\n",
    "    \n",
    "    motion_lengths = analysis['motion_lengths_frames']\n",
    "    spans_durations = analysis['spans_durations_per_motion']\n",
    "    \n",
    "    for motion_length, total_span_duration in zip(motion_lengths, spans_durations):\n",
    "        if motion_length > 0:\n",
    "            coverage = total_span_duration / motion_length\n",
    "            coverage_values.append(coverage)\n",
    "            \n",
    "    return coverage_values\n",
    "\n",
    "fig, axes = plt.subplots(1, len(analyses), figsize=(15, 6))\n",
    "if len(analyses) == 1:\n",
    "    axes = axes.reshape(-1, 1)\n",
    "\n",
    "fig.suptitle('Span Coverage Analysis', fontsize=16)\n",
    "\n",
    "for i, analysis in enumerate(analyses):\n",
    "    name = analysis['split_name']\n",
    "    coverage_values = calculate_span_coverage(analysis)\n",
    "    \n",
    "    if not coverage_values:\n",
    "        continue\n",
    "        \n",
    "    axes[i].hist(coverage_values, bins=50, alpha=0.7, color=f'C{i}', edgecolor='black')\n",
    "    axes[i].set_title(f'{name} - Coverage Distribution')\n",
    "    axes[i].set_xlabel('Span Coverage (ratio)')\n",
    "    axes[i].set_ylabel('Number of Motions')\n",
    "    axes[i].grid(True, alpha=0.3)\n",
    "    \n",
    "    for d in DECILES:\n",
    "        decile = np.percentile(coverage_values, d*10)\n",
    "        # axes[i].axvline(decile, color='gray', linestyle='-.', alpha=0.5, label=f'D{d}: {decile:.1f}')\n",
    "        axes[i].axvline(\n",
    "            decile,\n",
    "            color='gray',\n",
    "            linestyle='-.',\n",
    "            alpha=0.5,\n",
    "            label=f'D{d}: {decile:.1f} ({d*10:.0f}%) - N={int(len(coverage_values)*d/10):,}'\n",
    "        )\n",
    "    axes[i].legend()\n",
    "\n",
    "plt.tight_layout()\n",
    "plt.show()"
   ]
  },
  {
   "cell_type": "markdown",
   "id": "7e34c21b",
   "metadata": {},
   "source": [
    "---"
   ]
  }
 ],
 "metadata": {
  "kernelspec": {
   "display_name": ".venv",
   "language": "python",
   "name": "python3"
  },
  "language_info": {
   "codemirror_mode": {
    "name": "ipython",
    "version": 3
   },
   "file_extension": ".py",
   "mimetype": "text/x-python",
   "name": "python",
   "nbconvert_exporter": "python",
   "pygments_lexer": "ipython3",
   "version": "3.12.8"
  }
 },
 "nbformat": 4,
 "nbformat_minor": 5
}
