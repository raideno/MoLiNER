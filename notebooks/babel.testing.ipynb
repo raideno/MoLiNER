{
    "cells": [
        {
            "cell_type": "code",
            "execution_count": 1,
            "id": "15dcc5d5",
            "metadata": {},
            "outputs": [],
            "source": [
                "%load_ext autoreload\n",
                "%autoreload 2"
            ]
        },
        {
            "cell_type": "code",
            "execution_count": 2,
            "id": "5622707e",
            "metadata": {},
            "outputs": [
                {
                    "name": "stdout",
                    "output_type": "stream",
                    "text": [
                        "[sys.path]: ['/usr/lib/python310.zip', '/usr/lib/python3.10', '/usr/lib/python3.10/lib-dynload', '', '/home/nadir/motion-linner/.motion-linner.venv/lib/python3.10/site-packages', '../']\n"
                    ]
                }
            ],
            "source": [
                "import sys\n",
                "\n",
                "if \"../\" not in sys.path:\n",
                "    sys.path.append(\"../\")\n",
                "    print(\"[sys.path]:\", sys.path)"
            ]
        },
        {
            "cell_type": "code",
            "execution_count": 3,
            "id": "ab6c7201",
            "metadata": {},
            "outputs": [
                {
                    "name": "stderr",
                    "output_type": "stream",
                    "text": [
                        "/home/nadir/motion-linner/.motion-linner.venv/lib/python3.10/site-packages/tqdm/auto.py:21: TqdmWarning: IProgress not found. Please update jupyter and ipywidgets. See https://ipywidgets.readthedocs.io/en/stable/user_install.html\n",
                        "  from .autonotebook import tqdm as notebook_tqdm\n"
                    ]
                },
                {
                    "name": "stdout",
                    "output_type": "stream",
                    "text": [
                        "[.env]: True\n"
                    ]
                }
            ],
            "source": [
                "import os\n",
                "import tqdm\n",
                "import torch\n",
                "import datasets\n",
                "\n",
                "import numpy as np\n",
                "\n",
                "from dotenv import load_dotenv\n",
                "from huggingface_hub import login\n",
                "\n",
                "from src.data.babel import BabelDataset"
            ]
        },
        {
            "cell_type": "code",
            "execution_count": 4,
            "id": "44d3dca9",
            "metadata": {},
            "outputs": [
                {
                    "name": "stdout",
                    "output_type": "stream",
                    "text": [
                        "[.env]: True\n"
                    ]
                }
            ],
            "source": [
                "print(\"[.env]:\", load_dotenv())"
            ]
        },
        {
            "cell_type": "code",
            "execution_count": 5,
            "metadata": {},
            "outputs": [],
            "source": [
                "from src.constants import (\n",
                "    HUGGING_FACE_TOKEN,\n",
                "    BABEL_REMOTE_DATASET_NAME,\n",
                "    HML3D_REMOTE_DATASET_NAME,\n",
                ")"
            ]
        },
        {
            "cell_type": "code",
            "execution_count": 6,
            "id": "1f798ca3",
            "metadata": {},
            "outputs": [],
            "source": [
                "login(token=HUGGING_FACE_TOKEN)"
            ]
        },
        {
            "cell_type": "code",
            "execution_count": 7,
            "id": "facbab0b",
            "metadata": {},
            "outputs": [
                {
                    "name": "stdout",
                    "output_type": "stream",
                    "text": [
                        "[BABEL]: ['full_joint_vecs', 'labels_only', 'motion_all', 'motion_joint_vecs', 'motion_joints', 'full_all_motion', 'full_joints']\n",
                        "[HML3D]: ['full_joint_vecs', 'labels_only', 'motion_all', 'motion_joint_vecs', 'motion_joints', 'full_all_motion', 'full_joints']\n"
                    ]
                }
            ],
            "source": [
                "print(\"[BABEL]:\", datasets.get_dataset_config_names(BABEL_REMOTE_DATASET_NAME, trust_remote_code=True))\n",
                "print(\"[HML3D]:\", datasets.get_dataset_config_names(HML3D_REMOTE_DATASET_NAME, trust_remote_code=True))"
            ]
        },
        {
            "cell_type": "code",
            "execution_count": 8,
            "id": "63252576",
            "metadata": {},
            "outputs": [
                {
                    "name": "stderr",
                    "output_type": "stream",
                    "text": [
                        "Repo card metadata block was not found. Setting CardData to empty.\n"
                    ]
                }
            ],
            "source": [
                "babel_dataset = datasets.load_dataset(\n",
                "    BABEL_REMOTE_DATASET_NAME,\n",
                "    trust_remote_code=True,\n",
                "    name=\"full_all_motion\"\n",
                ")"
            ]
        },
        {
            "cell_type": "code",
            "execution_count": 9,
            "id": "7a2e09b1",
            "metadata": {},
            "outputs": [
                {
                    "name": "stdout",
                    "output_type": "stream",
                    "text": [
                        "[#dataset.train]: 6615\n",
                        "[#dataset.validation]: 2193\n"
                    ]
                }
            ],
            "source": [
                "print(\"[#dataset.train]:\", len(babel_dataset[\"train\"]))\n",
                "print(\"[#dataset.validation]:\", len(babel_dataset[\"validation\"]))"
            ]
        },
        {
            "cell_type": "markdown",
            "id": "73a3ad6b",
            "metadata": {},
            "source": [
                "---"
            ]
        },
        {
            "cell_type": "code",
            "execution_count": 10,
            "id": "f2bfb1f8",
            "metadata": {},
            "outputs": [],
            "source": [
                "from src.data.utils.batching import babel_simplify_batch_structure"
            ]
        },
        {
            "cell_type": "code",
            "execution_count": 14,
            "id": "305a3cc1",
            "metadata": {},
            "outputs": [
                {
                    "name": "stderr",
                    "output_type": "stream",
                    "text": [
                        "Map: 100%|██████████| 6615/6615 [06:24<00:00, 17.22 examples/s]\n"
                    ]
                }
            ],
            "source": [
                "clean_dataset = babel_dataset[\"train\"].map(\n",
                "    lambda batch: babel_simplify_batch_structure(batch, source=\"act_cat\", fps=20),\n",
                "    batched=True,\n",
                "    batch_size=16\n",
                ")"
            ]
        },
        {
            "cell_type": "code",
            "execution_count": 24,
            "id": "77d80912",
            "metadata": {},
            "outputs": [
                {
                    "name": "stdout",
                    "output_type": "stream",
                    "text": [
                        "{'labels': {'act_cat': [], 'proc_label': [], 'raw_label': [], 'start_t': [], 'end_t': []}}\n",
                        "{'labels': {'act_cat': [['raising body part', 'hand movements']], 'proc_label': ['hand rise'], 'raw_label': ['hand rise'], 'start_t': [0.0], 'end_t': [10.569999694824219]}}\n"
                    ]
                }
            ],
            "source": [
                "print(babel_dataset[\"train\"][0][\"frame_annotations\"])\n",
                "print(babel_dataset[\"train\"][0][\"sequence_annotations\"])"
            ]
        },
        {
            "cell_type": "code",
            "execution_count": 19,
            "id": "67e8e515",
            "metadata": {},
            "outputs": [
                {
                    "data": {
                        "text/plain": [
                            "[{'is_sequence': [True],\n",
                            "  'sources': ['act_cat'],\n",
                            "  'spans': [[0, 209]],\n",
                            "  'text': 'raising body part'},\n",
                            " {'is_sequence': [True],\n",
                            "  'sources': ['act_cat'],\n",
                            "  'spans': [[0, 209]],\n",
                            "  'text': 'hand movements'}]"
                        ]
                    },
                    "execution_count": 19,
                    "metadata": {},
                    "output_type": "execute_result"
                }
            ],
            "source": [
                "sample = clean_dataset[0]\n",
                "\n",
                "sample[\"prompts\"]"
            ]
        },
        {
            "cell_type": "markdown",
            "id": "226e7a74",
            "metadata": {},
            "source": [
                "---"
            ]
        },
        {
            "cell_type": "code",
            "execution_count": null,
            "id": "156fedf7",
            "metadata": {},
            "outputs": [],
            "source": [
                "from src.data.utils.filtering import create_babel_filter_fn\n",
                "from src.constants import DEFAULT_FPS, DEFAULT_SEED\n",
                "\n",
                "filtering_function = create_babel_filter_function(\n",
                "    seed=DEFAULT_SEED,\n",
                "    fps=DEFAULT_FPS,\n",
                "    min_motion_frames=20,\n",
                "    max_motion_frames=4096,\n",
                "    min_prompts_per_sample=1,\n",
                "    max_prompts_per_sample=4,\n",
                "    # TODO: instead we should just pass a lambda function that receives the prompt text and returns a boolean indicatin whether we should keep it or not\n",
                "    # prompt_text_blacklist=[\n",
                "    #     \"transition\",    \n",
                "    # ],\n",
                "    prompt_text_filter_function=None, # TODO: use a predefined one from the filtering file\n",
                "    min_span_frames=1,\n",
                "    max_span_frames=32,\n",
                "    max_spans_per_prompt=8,\n",
                "    debug=False,\n",
                ")"
            ]
        },
        {
            "cell_type": "code",
            "execution_count": 17,
            "id": "ece27d4e",
            "metadata": {},
            "outputs": [
                {
                    "name": "stderr",
                    "output_type": "stream",
                    "text": [
                        "Map: 100%|██████████| 6615/6615 [06:17<00:00, 17.50 examples/s]\n",
                        "Map: 100%|██████████| 2193/2193 [02:30<00:00, 14.57 examples/s]\n"
                    ]
                }
            ],
            "source": [
                "dsds = babel_dataset.map(\n",
                "    filtering_function,\n",
                "    batched=True,\n",
                "    batch_size=32   \n",
                ")"
            ]
        },
        {
            "cell_type": "code",
            "execution_count": 22,
            "id": "d7ea79df",
            "metadata": {},
            "outputs": [
                {
                    "name": "stdout",
                    "output_type": "stream",
                    "text": [
                        "[#train] 3667\n",
                        "[#validation] 1251\n"
                    ]
                }
            ],
            "source": [
                "print(\"[#train]\", len(dsds[\"train\"]))\n",
                "print(\"[#validation]\", len(dsds[\"validation\"]))"
            ]
        },
        {
            "cell_type": "markdown",
            "id": "756e125a",
            "metadata": {},
            "source": [
                "---"
            ]
        },
        {
            "cell_type": "markdown",
            "id": "b5844cd2",
            "metadata": {},
            "source": [
                "<div class=\"alert alert-info\">\n",
                "\n",
                "Supported Types: [None, 'arrow', 'numpy', 'pandas', 'custom', 'torch'].\n",
                "\n",
                "```python\n",
                "babel_dataset[\"train\"].set_format(\"ds\")\n",
                "```\n",
                "\n",
                "</div>"
            ]
        },
        {
            "cell_type": "markdown",
            "id": "e98df979",
            "metadata": {},
            "source": [
                "---"
            ]
        },
        {
            "cell_type": "code",
            "execution_count": 13,
            "id": "44d6987f",
            "metadata": {},
            "outputs": [],
            "source": [
                "from src.model.motion_encoders.tmr import TMR"
            ]
        },
        {
            "cell_type": "code",
            "execution_count": 15,
            "id": "f46aa03a",
            "metadata": {},
            "outputs": [],
            "source": [
                "encoder = TMR(\n",
                "    latent_dim=256\n",
                ")"
            ]
        },
        {
            "cell_type": "code",
            "execution_count": null,
            "id": "956a0f02",
            "metadata": {},
            "outputs": [],
            "source": [
                "inputs = next(iter(train_dataloader))\n",
                "outputs = encoder(inputs)"
            ]
        },
        {
            "cell_type": "code",
            "execution_count": null,
            "id": "1fab2d06",
            "metadata": {},
            "outputs": [],
            "source": [
                "cls_token, final = outputs"
            ]
        },
        {
            "cell_type": "code",
            "execution_count": null,
            "id": "417af4fd",
            "metadata": {},
            "outputs": [
                {
                    "name": "stdout",
                    "output_type": "stream",
                    "text": [
                        "[inputs.motion.shape]: torch.Size([32, 916, 263])\n",
                        "--- --- ---\n",
                        "[cls_token.shape]: torch.Size([32, 1, 256])\n",
                        "[final.shape]: torch.Size([32, 917, 256])\n"
                    ]
                }
            ],
            "source": [
                "print(\"[inputs.motion.shape]:\", inputs[\"motion\"].shape)\n",
                "\n",
                "print(\"--- --- ---\")\n",
                "\n",
                "print(\"[cls_token.shape]:\", cls_token.shape)\n",
                "print(\"[final.shape]:\", final.shape)"
            ]
        },
        {
            "cell_type": "markdown",
            "id": "c2a231eb",
            "metadata": {},
            "source": [
                "---"
            ]
        },
        {
            "cell_type": "code",
            "execution_count": null,
            "id": "26474a5d",
            "metadata": {},
            "outputs": [],
            "source": [
                "from src.types import RawBatch, ProcessedBatch\n",
                "\n",
                "from src.data.utils.batching import hml3d_create_raw_batch_collate_fn\n",
                "\n",
                "from src.data.utils.batching import PromptGenerationMode, babel_create_raw_batch_collate_fn, separate_frame_and_sequence_spans"
            ]
        },
        {
            "cell_type": "code",
            "execution_count": 25,
            "id": "49c7b2fc",
            "metadata": {},
            "outputs": [
                {
                    "name": "stderr",
                    "output_type": "stream",
                    "text": [
                        "Map: 100%|██████████| 6615/6615 [03:16<00:00, 33.70 examples/s]\n"
                    ]
                }
            ],
            "source": [
                "new_set = babel_dataset[\"train\"].map(augment_and_split_batch, batched=True, batch_size=8)"
            ]
        },
        {
            "cell_type": "code",
            "execution_count": 28,
            "id": "348b5bea",
            "metadata": {},
            "outputs": [
                {
                    "name": "stdout",
                    "output_type": "stream",
                    "text": [
                        "6615\n",
                        "10600\n"
                    ]
                }
            ],
            "source": [
                "print(len(babel_dataset[\"train\"]))\n",
                "print(len(new_set))"
            ]
        },
        {
            "cell_type": "code",
            "execution_count": null,
            "id": "c0769eaa",
            "metadata": {},
            "outputs": [],
            "source": [
                "from src.types import RawBatch\n",
                "\n",
                "my_collate_fn = create_raw_batch_collate_function(\n",
                "    fps=20,\n",
                "    mode=PromptGenerationMode.BOTH,\n",
                ")\n",
                "\n",
                "train_dataloader = torch.utils.data.DataLoader(\n",
                "    babel_dataset[\"train\"],\n",
                "    batch_size=8,\n",
                "    collate_fn=my_collate_fn,\n",
                "    shuffle=True\n",
                ")"
            ]
        },
        {
            "cell_type": "code",
            "execution_count": 13,
            "id": "1e184b54",
            "metadata": {},
            "outputs": [
                {
                    "name": "stderr",
                    "output_type": "stream",
                    "text": [
                        "  0%|          | 0/827 [00:00<?, ?it/s]\n"
                    ]
                }
            ],
            "source": [
                "for batch in tqdm.tqdm(train_dataloader):\n",
                "    # print(batch)\n",
                "    # print(batch[\"ds\"])\n",
                "    # print(batch[\"amass_relative_path\"])\n",
                "    # print(batch[\"sid\"])\n",
                "    # print(batch[\"dataset_name\"])\n",
                "    # print(batch[\"motion\"])\n",
                "    # print(batch[\"motion_length\"])\n",
                "    # print(batch[\"motion_start_end\"])\n",
                "    # print(batch[\"motion_start_end_length\"])\n",
                "    break"
            ]
        },
        {
            "cell_type": "code",
            "execution_count": 14,
            "id": "387cd50f",
            "metadata": {},
            "outputs": [],
            "source": [
                "batch = next(iter(train_dataloader))"
            ]
        },
        {
            "cell_type": "code",
            "execution_count": 15,
            "id": "1eabe57a",
            "metadata": {},
            "outputs": [
                {
                    "name": "stdout",
                    "output_type": "stream",
                    "text": [
                        "[batch]: ['sid', 'dataset_name', 'amass_relative_path', 'raw_motion', 'transformed_motion', 'motion_mask', 'prompts']\n",
                        "[batch.raw_motion]: torch.Size([8, 453, 22, 3])\n",
                        "[batch.transformed_motion]: torch.Size([8, 453, 263])\n",
                        "[batch.motion_mask]: torch.Size([8, 453])\n",
                        "[batch.prompts]: [[('walk', 0, 452, True)], [('run', 0, 27, True)], [('sidestep', 0, 163, True), ('side step to left', 54, 116, True), ('side step to right', 0, 54, True), ('side step to right', 116, 160, True), ('stand', 160, 163, True)], [('turn', 0, 95, True), ('turn right', 32, 58, True), ('stand', 0, 15, True), ('stand', 79, 95, True), ('walk', 15, 32, True), ('walk', 58, 79, True)], [('walk with support', 0, 285, True), ('walk forward', 23, 246, True), ('stand', 0, 15, True), ('transition', 15, 23, True), ('transition', 246, 285, True), ('apose', 285, 285, True), ('use left handrail', 61, 242, True), ('use right handrail', 35, 250, True)], [('wave', 0, 59, True)], [('walk', 0, 391, True)], [('sneak', 0, 114, True), ('stand', 0, 33, True), ('transition', 33, 38, True), ('sneak', 38, 114, True), ('hold', 0, 114, True)]]\n"
                    ]
                },
                {
                    "data": {
                        "text/plain": [
                            "RawBatch(sid=['1189', '3473', '5809', '7127', '8156', '2996', '3668', '410'], dataset_name=['babel', 'babel', 'babel', 'babel', 'babel', 'babel', 'babel', 'babel'], amass_relative_path=['BioMotionLab_NTroje/rub078/0002_treadmill_slow_poses.npz', 'CMU/02/02_03_poses.npz', 'BMLmovi/Subject_18_F_MoSh/Subject_18_F_11_poses.npz', 'KIT/9/LeftTurn06_poses.npz', 'KIT/675/walk_slow_with_handrail_table_beam_left03_poses.npz', 'BMLmovi/Subject_65_F_MoSh/Subject_65_F_7_poses.npz', 'BioMotionLab_NTroje/rub053/0001_treadmill_fast_poses.npz', 'CMU/74/74_11_poses.npz'], raw_motion=tensor([[[[ 0.0000e+00,  8.3621e-01,  0.0000e+00],\n",
                            "          [ 6.3360e-02,  7.5964e-01,  1.7598e-04],\n",
                            "          [-5.4326e-02,  7.4410e-01,  3.2346e-03],\n",
                            "          ...,\n",
                            "          [-2.7796e-01,  1.0306e+00,  8.4422e-03],\n",
                            "          [ 2.3049e-01,  8.0514e-01, -1.7474e-02],\n",
                            "          [-2.3149e-01,  8.4153e-01, -1.2744e-01]],\n",
                            "\n",
                            "         [[-1.2018e-03,  8.3441e-01,  9.5276e-03],\n",
                            "          [ 6.2813e-02,  7.5840e-01,  1.0637e-02],\n",
                            "          [-5.4750e-02,  7.4187e-01,  1.3152e-02],\n",
                            "          ...,\n",
                            "          [-2.7918e-01,  1.0306e+00, -4.6893e-03],\n",
                            "          [ 2.3040e-01,  8.0310e-01,  2.7467e-03],\n",
                            "          [-2.2534e-01,  8.5323e-01, -1.5310e-01]],\n",
                            "\n",
                            "         [[-2.6181e-03,  8.3141e-01,  1.4062e-02],\n",
                            "          [ 6.1600e-02,  7.5557e-01,  1.5721e-02],\n",
                            "          [-5.5915e-02,  7.3875e-01,  1.8534e-02],\n",
                            "          ...,\n",
                            "          [-2.7937e-01,  1.0287e+00, -1.6888e-02],\n",
                            "          [ 2.2849e-01,  7.9844e-01,  1.7925e-02],\n",
                            "          [-2.2030e-01,  8.5903e-01, -1.7221e-01]],\n",
                            "\n",
                            "         ...,\n",
                            "\n",
                            "         [[ 2.1022e-02,  8.3071e-01, -3.8287e-02],\n",
                            "          [ 7.8711e-02,  7.4993e-01, -4.3200e-02],\n",
                            "          [-3.9282e-02,  7.4256e-01, -3.2066e-02],\n",
                            "          ...,\n",
                            "          [-2.1381e-01,  1.0379e+00,  9.0591e-02],\n",
                            "          [ 2.6056e-01,  7.9816e-01, -1.1430e-01],\n",
                            "          [-2.1986e-01,  8.0518e-01,  4.3675e-02]],\n",
                            "\n",
                            "         [[ 2.0616e-02,  8.3104e-01, -3.4819e-02],\n",
                            "          [ 7.7373e-02,  7.4960e-01, -3.9671e-02],\n",
                            "          [-4.0731e-02,  7.4359e-01, -2.8905e-02],\n",
                            "          ...,\n",
                            "          [-2.0562e-01,  1.0421e+00,  1.1190e-01],\n",
                            "          [ 2.6075e-01,  8.0001e-01, -1.2677e-01],\n",
                            "          [-2.1798e-01,  8.0873e-01,  6.9651e-02]],\n",
                            "\n",
                            "         [[ 2.0651e-02,  8.2931e-01, -3.0390e-02],\n",
                            "          [ 7.6999e-02,  7.4759e-01, -3.5266e-02],\n",
                            "          [-4.1135e-02,  7.4217e-01, -2.4514e-02],\n",
                            "          ...,\n",
                            "          [-2.0083e-01,  1.0438e+00,  1.2919e-01],\n",
                            "          [ 2.5953e-01,  7.9908e-01, -1.3315e-01],\n",
                            "          [-2.1674e-01,  8.0939e-01,  9.4511e-02]]],\n",
                            "\n",
                            "\n",
                            "        [[[ 0.0000e+00,  9.0408e-01,  0.0000e+00],\n",
                            "          [ 4.2434e-02,  8.2492e-01,  4.5307e-02],\n",
                            "          [-6.2037e-02,  8.1666e-01,  8.4122e-03],\n",
                            "          ...,\n",
                            "          [-1.9312e-01,  1.2084e+00,  1.9889e-01],\n",
                            "          [ 1.0967e-01,  1.1781e+00, -2.5927e-01],\n",
                            "          [-2.2555e-01,  9.8358e-01,  6.1235e-02]],\n",
                            "\n",
                            "         [[ 1.2713e-02,  9.0455e-01, -1.1643e-01],\n",
                            "          [ 5.7953e-02,  8.2540e-01, -7.3899e-02],\n",
                            "          [-4.8223e-02,  8.1664e-01, -1.0542e-01],\n",
                            "          ...,\n",
                            "          [-1.7943e-01,  1.1798e+00,  6.4310e-02],\n",
                            "          [ 1.2267e-01,  1.1368e+00, -3.3981e-01],\n",
                            "          [-2.0152e-01,  9.7832e-01, -1.0729e-01]],\n",
                            "\n",
                            "         [[ 2.7513e-02,  8.8294e-01, -2.2520e-01],\n",
                            "          [ 7.6918e-02,  8.0355e-01, -1.8811e-01],\n",
                            "          [-3.1429e-02,  7.9417e-01, -2.1083e-01],\n",
                            "          ...,\n",
                            "          [-1.8180e-01,  1.1052e+00, -9.7653e-02],\n",
                            "          [ 1.5949e-01,  1.0570e+00, -3.9986e-01],\n",
                            "          [-1.8345e-01,  9.6229e-01, -3.2153e-01]],\n",
                            "\n",
                            "         ...,\n",
                            "\n",
                            "         [[ 0.0000e+00,  0.0000e+00,  0.0000e+00],\n",
                            "          [ 0.0000e+00,  0.0000e+00,  0.0000e+00],\n",
                            "          [ 0.0000e+00,  0.0000e+00,  0.0000e+00],\n",
                            "          ...,\n",
                            "          [ 0.0000e+00,  0.0000e+00,  0.0000e+00],\n",
                            "          [ 0.0000e+00,  0.0000e+00,  0.0000e+00],\n",
                            "          [ 0.0000e+00,  0.0000e+00,  0.0000e+00]],\n",
                            "\n",
                            "         [[ 0.0000e+00,  0.0000e+00,  0.0000e+00],\n",
                            "          [ 0.0000e+00,  0.0000e+00,  0.0000e+00],\n",
                            "          [ 0.0000e+00,  0.0000e+00,  0.0000e+00],\n",
                            "          ...,\n",
                            "          [ 0.0000e+00,  0.0000e+00,  0.0000e+00],\n",
                            "          [ 0.0000e+00,  0.0000e+00,  0.0000e+00],\n",
                            "          [ 0.0000e+00,  0.0000e+00,  0.0000e+00]],\n",
                            "\n",
                            "         [[ 0.0000e+00,  0.0000e+00,  0.0000e+00],\n",
                            "          [ 0.0000e+00,  0.0000e+00,  0.0000e+00],\n",
                            "          [ 0.0000e+00,  0.0000e+00,  0.0000e+00],\n",
                            "          ...,\n",
                            "          [ 0.0000e+00,  0.0000e+00,  0.0000e+00],\n",
                            "          [ 0.0000e+00,  0.0000e+00,  0.0000e+00],\n",
                            "          [ 0.0000e+00,  0.0000e+00,  0.0000e+00]]],\n",
                            "\n",
                            "\n",
                            "        [[[ 0.0000e+00,  9.0732e-01,  0.0000e+00],\n",
                            "          [ 5.1711e-02,  8.2188e-01,  1.5796e-02],\n",
                            "          [-4.9232e-02,  8.1095e-01,  7.6769e-03],\n",
                            "          ...,\n",
                            "          [-2.0493e-01,  1.1000e+00,  4.1512e-02],\n",
                            "          [ 2.0703e-01,  8.6159e-01, -3.6417e-02],\n",
                            "          [-2.1129e-01,  8.6058e-01, -3.4548e-02]],\n",
                            "\n",
                            "         [[ 3.0831e-03,  9.0734e-01,  3.4333e-03],\n",
                            "          [ 5.4361e-02,  8.2163e-01,  1.9197e-02],\n",
                            "          [-4.6607e-02,  8.1118e-01,  1.0756e-02],\n",
                            "          ...,\n",
                            "          [-2.0256e-01,  1.1015e+00,  4.1966e-02],\n",
                            "          [ 2.0907e-01,  8.6127e-01, -3.2594e-02],\n",
                            "          [-2.0980e-01,  8.6145e-01, -3.2075e-02]],\n",
                            "\n",
                            "         [[ 6.7964e-03,  9.0762e-01,  6.1307e-03],\n",
                            "          [ 5.8062e-02,  8.2175e-01,  2.1051e-02],\n",
                            "          [-4.3003e-02,  8.1152e-01,  1.3555e-02],\n",
                            "          ...,\n",
                            "          [-1.9846e-01,  1.1026e+00,  4.3352e-02],\n",
                            "          [ 2.1187e-01,  8.6099e-01, -2.9792e-02],\n",
                            "          [-2.0793e-01,  8.6184e-01, -2.8181e-02]],\n",
                            "\n",
                            "         ...,\n",
                            "\n",
                            "         [[ 0.0000e+00,  0.0000e+00,  0.0000e+00],\n",
                            "          [ 0.0000e+00,  0.0000e+00,  0.0000e+00],\n",
                            "          [ 0.0000e+00,  0.0000e+00,  0.0000e+00],\n",
                            "          ...,\n",
                            "          [ 0.0000e+00,  0.0000e+00,  0.0000e+00],\n",
                            "          [ 0.0000e+00,  0.0000e+00,  0.0000e+00],\n",
                            "          [ 0.0000e+00,  0.0000e+00,  0.0000e+00]],\n",
                            "\n",
                            "         [[ 0.0000e+00,  0.0000e+00,  0.0000e+00],\n",
                            "          [ 0.0000e+00,  0.0000e+00,  0.0000e+00],\n",
                            "          [ 0.0000e+00,  0.0000e+00,  0.0000e+00],\n",
                            "          ...,\n",
                            "          [ 0.0000e+00,  0.0000e+00,  0.0000e+00],\n",
                            "          [ 0.0000e+00,  0.0000e+00,  0.0000e+00],\n",
                            "          [ 0.0000e+00,  0.0000e+00,  0.0000e+00]],\n",
                            "\n",
                            "         [[ 0.0000e+00,  0.0000e+00,  0.0000e+00],\n",
                            "          [ 0.0000e+00,  0.0000e+00,  0.0000e+00],\n",
                            "          [ 0.0000e+00,  0.0000e+00,  0.0000e+00],\n",
                            "          ...,\n",
                            "          [ 0.0000e+00,  0.0000e+00,  0.0000e+00],\n",
                            "          [ 0.0000e+00,  0.0000e+00,  0.0000e+00],\n",
                            "          [ 0.0000e+00,  0.0000e+00,  0.0000e+00]]],\n",
                            "\n",
                            "\n",
                            "        ...,\n",
                            "\n",
                            "\n",
                            "        [[[ 0.0000e+00,  8.5718e-01,  0.0000e+00],\n",
                            "          [ 6.1242e-02,  7.6771e-01,  9.3200e-03],\n",
                            "          [-6.1164e-02,  7.7244e-01,  1.3787e-02],\n",
                            "          ...,\n",
                            "          [-2.1172e-01,  1.0564e+00,  1.9581e-02],\n",
                            "          [ 3.1995e-01,  8.1466e-01, -6.2182e-03],\n",
                            "          [-3.0285e-01,  8.2375e-01,  7.1925e-03]],\n",
                            "\n",
                            "         [[ 1.8761e-04,  8.5700e-01, -5.7660e-04],\n",
                            "          [ 6.1421e-02,  7.6752e-01,  8.7321e-03],\n",
                            "          [-6.0979e-02,  7.7228e-01,  1.3334e-02],\n",
                            "          ...,\n",
                            "          [-2.1176e-01,  1.0562e+00,  1.9020e-02],\n",
                            "          [ 3.1994e-01,  8.1445e-01, -6.8205e-03],\n",
                            "          [-3.0288e-01,  8.2345e-01,  6.6646e-03]],\n",
                            "\n",
                            "         [[ 3.8215e-04,  8.5690e-01, -1.1468e-03],\n",
                            "          [ 6.1639e-02,  7.6744e-01,  8.2530e-03],\n",
                            "          [-6.0760e-02,  7.7218e-01,  1.2906e-02],\n",
                            "          ...,\n",
                            "          [-2.1155e-01,  1.0560e+00,  1.8428e-02],\n",
                            "          [ 3.1919e-01,  8.1420e-01, -7.7528e-03],\n",
                            "          [-3.0269e-01,  8.2322e-01,  6.8492e-03]],\n",
                            "\n",
                            "         ...,\n",
                            "\n",
                            "         [[ 0.0000e+00,  0.0000e+00,  0.0000e+00],\n",
                            "          [ 0.0000e+00,  0.0000e+00,  0.0000e+00],\n",
                            "          [ 0.0000e+00,  0.0000e+00,  0.0000e+00],\n",
                            "          ...,\n",
                            "          [ 0.0000e+00,  0.0000e+00,  0.0000e+00],\n",
                            "          [ 0.0000e+00,  0.0000e+00,  0.0000e+00],\n",
                            "          [ 0.0000e+00,  0.0000e+00,  0.0000e+00]],\n",
                            "\n",
                            "         [[ 0.0000e+00,  0.0000e+00,  0.0000e+00],\n",
                            "          [ 0.0000e+00,  0.0000e+00,  0.0000e+00],\n",
                            "          [ 0.0000e+00,  0.0000e+00,  0.0000e+00],\n",
                            "          ...,\n",
                            "          [ 0.0000e+00,  0.0000e+00,  0.0000e+00],\n",
                            "          [ 0.0000e+00,  0.0000e+00,  0.0000e+00],\n",
                            "          [ 0.0000e+00,  0.0000e+00,  0.0000e+00]],\n",
                            "\n",
                            "         [[ 0.0000e+00,  0.0000e+00,  0.0000e+00],\n",
                            "          [ 0.0000e+00,  0.0000e+00,  0.0000e+00],\n",
                            "          [ 0.0000e+00,  0.0000e+00,  0.0000e+00],\n",
                            "          ...,\n",
                            "          [ 0.0000e+00,  0.0000e+00,  0.0000e+00],\n",
                            "          [ 0.0000e+00,  0.0000e+00,  0.0000e+00],\n",
                            "          [ 0.0000e+00,  0.0000e+00,  0.0000e+00]]],\n",
                            "\n",
                            "\n",
                            "        [[[ 0.0000e+00,  9.2729e-01,  0.0000e+00],\n",
                            "          [ 6.1879e-02,  8.4367e-01,  5.4189e-03],\n",
                            "          [-5.9136e-02,  8.3399e-01,  1.7664e-02],\n",
                            "          ...,\n",
                            "          [-2.6904e-01,  1.1146e+00,  2.0971e-03],\n",
                            "          [ 3.1660e-01,  8.7100e-01,  3.5056e-02],\n",
                            "          [-2.3291e-01,  9.1987e-01, -1.7627e-01]],\n",
                            "\n",
                            "         [[ 2.1186e-03,  9.2325e-01,  4.3613e-03],\n",
                            "          [ 6.3843e-02,  8.3952e-01,  9.7671e-03],\n",
                            "          [-5.6983e-02,  8.3035e-01,  2.4094e-02],\n",
                            "          ...,\n",
                            "          [-2.6836e-01,  1.1101e+00,  5.1932e-03],\n",
                            "          [ 3.2627e-01,  8.7614e-01,  7.6713e-02],\n",
                            "          [-2.2157e-01,  9.2787e-01, -1.8359e-01]],\n",
                            "\n",
                            "         [[ 3.3635e-03,  9.1636e-01,  2.5262e-03],\n",
                            "          [ 6.4499e-02,  8.3217e-01,  7.4042e-03],\n",
                            "          [-5.6097e-02,  8.2411e-01,  2.4136e-02],\n",
                            "          ...,\n",
                            "          [-2.6599e-01,  1.1030e+00,  5.9431e-03],\n",
                            "          [ 3.3288e-01,  8.7798e-01,  1.0100e-01],\n",
                            "          [-2.1574e-01,  9.2491e-01, -1.8582e-01]],\n",
                            "\n",
                            "         ...,\n",
                            "\n",
                            "         [[ 0.0000e+00,  0.0000e+00,  0.0000e+00],\n",
                            "          [ 0.0000e+00,  0.0000e+00,  0.0000e+00],\n",
                            "          [ 0.0000e+00,  0.0000e+00,  0.0000e+00],\n",
                            "          ...,\n",
                            "          [ 0.0000e+00,  0.0000e+00,  0.0000e+00],\n",
                            "          [ 0.0000e+00,  0.0000e+00,  0.0000e+00],\n",
                            "          [ 0.0000e+00,  0.0000e+00,  0.0000e+00]],\n",
                            "\n",
                            "         [[ 0.0000e+00,  0.0000e+00,  0.0000e+00],\n",
                            "          [ 0.0000e+00,  0.0000e+00,  0.0000e+00],\n",
                            "          [ 0.0000e+00,  0.0000e+00,  0.0000e+00],\n",
                            "          ...,\n",
                            "          [ 0.0000e+00,  0.0000e+00,  0.0000e+00],\n",
                            "          [ 0.0000e+00,  0.0000e+00,  0.0000e+00],\n",
                            "          [ 0.0000e+00,  0.0000e+00,  0.0000e+00]],\n",
                            "\n",
                            "         [[ 0.0000e+00,  0.0000e+00,  0.0000e+00],\n",
                            "          [ 0.0000e+00,  0.0000e+00,  0.0000e+00],\n",
                            "          [ 0.0000e+00,  0.0000e+00,  0.0000e+00],\n",
                            "          ...,\n",
                            "          [ 0.0000e+00,  0.0000e+00,  0.0000e+00],\n",
                            "          [ 0.0000e+00,  0.0000e+00,  0.0000e+00],\n",
                            "          [ 0.0000e+00,  0.0000e+00,  0.0000e+00]]],\n",
                            "\n",
                            "\n",
                            "        [[[ 0.0000e+00,  8.2732e-01,  0.0000e+00],\n",
                            "          [ 5.3960e-02,  7.4837e-01,  1.8822e-02],\n",
                            "          [-5.6369e-02,  7.4222e-01,  1.8648e-02],\n",
                            "          ...,\n",
                            "          [-1.4360e-01,  1.0398e+00,  8.8512e-02],\n",
                            "          [ 1.6209e-01,  1.0248e+00, -1.5656e-01],\n",
                            "          [-2.2634e-01,  1.0194e+00, -1.3572e-01]],\n",
                            "\n",
                            "         [[ 1.1749e-04,  8.2735e-01,  2.5943e-04],\n",
                            "          [ 5.3942e-02,  7.4830e-01,  1.9049e-02],\n",
                            "          [-5.6396e-02,  7.4231e-01,  1.8784e-02],\n",
                            "          ...,\n",
                            "          [-1.4380e-01,  1.0403e+00,  9.1747e-02],\n",
                            "          [ 1.6073e-01,  1.0237e+00, -1.5861e-01],\n",
                            "          [-2.2854e-01,  1.0222e+00, -1.3193e-01]],\n",
                            "\n",
                            "         [[ 3.1002e-04,  8.2769e-01,  7.4261e-04],\n",
                            "          [ 5.4148e-02,  7.4864e-01,  1.9509e-02],\n",
                            "          [-5.6190e-02,  7.4265e-01,  1.9320e-02],\n",
                            "          ...,\n",
                            "          [-1.4287e-01,  1.0408e+00,  9.2273e-02],\n",
                            "          [ 1.6071e-01,  1.0243e+00, -1.5822e-01],\n",
                            "          [-2.2695e-01,  1.0233e+00, -1.3170e-01]],\n",
                            "\n",
                            "         ...,\n",
                            "\n",
                            "         [[ 0.0000e+00,  0.0000e+00,  0.0000e+00],\n",
                            "          [ 0.0000e+00,  0.0000e+00,  0.0000e+00],\n",
                            "          [ 0.0000e+00,  0.0000e+00,  0.0000e+00],\n",
                            "          ...,\n",
                            "          [ 0.0000e+00,  0.0000e+00,  0.0000e+00],\n",
                            "          [ 0.0000e+00,  0.0000e+00,  0.0000e+00],\n",
                            "          [ 0.0000e+00,  0.0000e+00,  0.0000e+00]],\n",
                            "\n",
                            "         [[ 0.0000e+00,  0.0000e+00,  0.0000e+00],\n",
                            "          [ 0.0000e+00,  0.0000e+00,  0.0000e+00],\n",
                            "          [ 0.0000e+00,  0.0000e+00,  0.0000e+00],\n",
                            "          ...,\n",
                            "          [ 0.0000e+00,  0.0000e+00,  0.0000e+00],\n",
                            "          [ 0.0000e+00,  0.0000e+00,  0.0000e+00],\n",
                            "          [ 0.0000e+00,  0.0000e+00,  0.0000e+00]],\n",
                            "\n",
                            "         [[ 0.0000e+00,  0.0000e+00,  0.0000e+00],\n",
                            "          [ 0.0000e+00,  0.0000e+00,  0.0000e+00],\n",
                            "          [ 0.0000e+00,  0.0000e+00,  0.0000e+00],\n",
                            "          ...,\n",
                            "          [ 0.0000e+00,  0.0000e+00,  0.0000e+00],\n",
                            "          [ 0.0000e+00,  0.0000e+00,  0.0000e+00],\n",
                            "          [ 0.0000e+00,  0.0000e+00,  0.0000e+00]]]]), transformed_motion=tensor([[[-1.1091e-02, -1.4128e-03,  9.4986e-03,  ...,  0.0000e+00,\n",
                            "           1.0000e+00,  1.0000e+00],\n",
                            "         [-1.5817e-03, -1.5308e-03,  4.4967e-03,  ...,  0.0000e+00,\n",
                            "           1.0000e+00,  1.0000e+00],\n",
                            "         [-1.6269e-03, -1.8529e-03,  1.5216e-03,  ...,  0.0000e+00,\n",
                            "           1.0000e+00,  1.0000e+00],\n",
                            "         ...,\n",
                            "         [-2.2996e-03, -1.0975e-03,  3.3151e-03,  ...,  1.0000e+00,\n",
                            "           0.0000e+00,  0.0000e+00],\n",
                            "         [-2.3278e-03, -8.7900e-04,  4.3414e-03,  ...,  1.0000e+00,\n",
                            "           0.0000e+00,  0.0000e+00],\n",
                            "         [-2.3500e-03, -1.5605e-03,  7.4425e-03,  ...,  1.0000e+00,\n",
                            "           0.0000e+00,  0.0000e+00]],\n",
                            "\n",
                            "        [[-4.6255e-02,  2.3415e-02, -1.1476e-01,  ...,  0.0000e+00,\n",
                            "           0.0000e+00,  0.0000e+00],\n",
                            "         [ 3.0104e-03,  2.4140e-02, -1.0708e-01,  ...,  0.0000e+00,\n",
                            "           1.0000e+00,  1.0000e+00],\n",
                            "         [ 2.9444e-03,  2.1741e-02, -1.0105e-01,  ...,  0.0000e+00,\n",
                            "           1.0000e+00,  1.0000e+00],\n",
                            "         ...,\n",
                            "         [ 0.0000e+00,  0.0000e+00,  0.0000e+00,  ...,  0.0000e+00,\n",
                            "           0.0000e+00,  0.0000e+00],\n",
                            "         [ 0.0000e+00,  0.0000e+00,  0.0000e+00,  ...,  0.0000e+00,\n",
                            "           0.0000e+00,  0.0000e+00],\n",
                            "         [ 0.0000e+00,  0.0000e+00,  0.0000e+00,  ...,  0.0000e+00,\n",
                            "           0.0000e+00,  0.0000e+00]],\n",
                            "\n",
                            "        [[-3.6170e-02,  2.8269e-03,  3.6471e-03,  ...,  1.0000e+00,\n",
                            "           1.0000e+00,  1.0000e+00],\n",
                            "         [-2.0821e-04,  3.5074e-03,  2.9602e-03,  ...,  1.0000e+00,\n",
                            "           1.0000e+00,  1.0000e+00],\n",
                            "         [-1.9043e-04,  4.7952e-03,  2.8216e-03,  ...,  1.0000e+00,\n",
                            "           1.0000e+00,  1.0000e+00],\n",
                            "         ...,\n",
                            "         [ 0.0000e+00,  0.0000e+00,  0.0000e+00,  ...,  0.0000e+00,\n",
                            "           0.0000e+00,  0.0000e+00],\n",
                            "         [ 0.0000e+00,  0.0000e+00,  0.0000e+00,  ...,  0.0000e+00,\n",
                            "           0.0000e+00,  0.0000e+00],\n",
                            "         [ 0.0000e+00,  0.0000e+00,  0.0000e+00,  ...,  0.0000e+00,\n",
                            "           0.0000e+00,  0.0000e+00]],\n",
                            "\n",
                            "        ...,\n",
                            "\n",
                            "        [[ 1.2331e-02,  1.7333e-04, -5.8105e-04,  ...,  1.0000e+00,\n",
                            "           1.0000e+00,  1.0000e+00],\n",
                            "         [-3.4785e-04,  1.8083e-04, -5.7470e-04,  ...,  1.0000e+00,\n",
                            "           1.0000e+00,  1.0000e+00],\n",
                            "         [-3.4996e-04,  1.7915e-04, -6.3224e-04,  ...,  1.0000e+00,\n",
                            "           1.0000e+00,  1.0000e+00],\n",
                            "         ...,\n",
                            "         [ 0.0000e+00,  0.0000e+00,  0.0000e+00,  ...,  0.0000e+00,\n",
                            "           0.0000e+00,  0.0000e+00],\n",
                            "         [ 0.0000e+00,  0.0000e+00,  0.0000e+00,  ...,  0.0000e+00,\n",
                            "           0.0000e+00,  0.0000e+00],\n",
                            "         [ 0.0000e+00,  0.0000e+00,  0.0000e+00,  ...,  0.0000e+00,\n",
                            "           0.0000e+00,  0.0000e+00]],\n",
                            "\n",
                            "        [[ 8.3596e-03,  2.1912e-03,  4.3252e-03,  ...,  0.0000e+00,\n",
                            "           0.0000e+00,  0.0000e+00],\n",
                            "         [-1.4388e-03,  1.2194e-03, -1.8521e-03,  ...,  0.0000e+00,\n",
                            "           1.0000e+00,  0.0000e+00],\n",
                            "         [-1.4425e-03,  9.4556e-04, -8.2604e-03,  ...,  1.0000e+00,\n",
                            "           1.0000e+00,  0.0000e+00],\n",
                            "         ...,\n",
                            "         [ 0.0000e+00,  0.0000e+00,  0.0000e+00,  ...,  0.0000e+00,\n",
                            "           0.0000e+00,  0.0000e+00],\n",
                            "         [ 0.0000e+00,  0.0000e+00,  0.0000e+00,  ...,  0.0000e+00,\n",
                            "           0.0000e+00,  0.0000e+00],\n",
                            "         [ 0.0000e+00,  0.0000e+00,  0.0000e+00,  ...,  0.0000e+00,\n",
                            "           0.0000e+00,  0.0000e+00]],\n",
                            "\n",
                            "        [[ 1.9064e-03,  1.1847e-04,  2.5898e-04,  ...,  1.0000e+00,\n",
                            "           1.0000e+00,  1.0000e+00],\n",
                            "         [ 2.2234e-04,  1.9459e-04,  4.8236e-04,  ...,  1.0000e+00,\n",
                            "           1.0000e+00,  1.0000e+00],\n",
                            "         [ 2.3816e-04,  2.0734e-05,  2.9289e-04,  ...,  1.0000e+00,\n",
                            "           1.0000e+00,  1.0000e+00],\n",
                            "         ...,\n",
                            "         [ 0.0000e+00,  0.0000e+00,  0.0000e+00,  ...,  0.0000e+00,\n",
                            "           0.0000e+00,  0.0000e+00],\n",
                            "         [ 0.0000e+00,  0.0000e+00,  0.0000e+00,  ...,  0.0000e+00,\n",
                            "           0.0000e+00,  0.0000e+00],\n",
                            "         [ 0.0000e+00,  0.0000e+00,  0.0000e+00,  ...,  0.0000e+00,\n",
                            "           0.0000e+00,  0.0000e+00]]]), motion_mask=tensor([[ True,  True,  True,  ...,  True,  True,  True],\n",
                            "        [ True,  True,  True,  ..., False, False, False],\n",
                            "        [ True,  True,  True,  ..., False, False, False],\n",
                            "        ...,\n",
                            "        [ True,  True,  True,  ..., False, False, False],\n",
                            "        [ True,  True,  True,  ..., False, False, False],\n",
                            "        [ True,  True,  True,  ..., False, False, False]]), prompts=[[('walk', 0, 452, True)], [('run', 0, 27, True)], [('sidestep', 0, 163, True), ('side step to left', 54, 116, True), ('side step to right', 0, 54, True), ('side step to right', 116, 160, True), ('stand', 160, 163, True)], [('turn', 0, 95, True), ('turn right', 32, 58, True), ('stand', 0, 15, True), ('stand', 79, 95, True), ('walk', 15, 32, True), ('walk', 58, 79, True)], [('walk with support', 0, 285, True), ('walk forward', 23, 246, True), ('stand', 0, 15, True), ('transition', 15, 23, True), ('transition', 246, 285, True), ('apose', 285, 285, True), ('use left handrail', 61, 242, True), ('use right handrail', 35, 250, True)], [('wave', 0, 59, True)], [('walk', 0, 391, True)], [('sneak', 0, 114, True), ('stand', 0, 33, True), ('transition', 33, 38, True), ('sneak', 38, 114, True), ('hold', 0, 114, True)]])"
                        ]
                    },
                    "execution_count": 15,
                    "metadata": {},
                    "output_type": "execute_result"
                }
            ],
            "source": [
                "print(\"[batch]:\", list(batch.__dataclass_fields__.keys()))\n",
                "print(\"[batch.raw_motion]:\", batch.raw_motion.shape)\n",
                "print(\"[batch.transformed_motion]:\", batch.transformed_motion.shape)\n",
                "print(\"[batch.motion_mask]:\", batch.motion_mask.shape)\n",
                "print(\"[batch.prompts]:\", batch.prompts)\n",
                "batch"
            ]
        },
        {
            "cell_type": "code",
            "execution_count": null,
            "id": "94e9b03f",
            "metadata": {},
            "outputs": [],
            "source": [
                "from transformers import AutoTokenizer\n",
                "\n",
                "tokenizer = AutoTokenizer.from_pretrained(\"bert-base-uncased\")\n",
                "\n",
                "preprocessed_batch = ProcessedBatch.from_raw_batch(\n",
                "    batch,\n",
                "    tokenizer,\n",
                ")\n",
                "\n",
                "print(\"[preprocessed_batch.keys()]:\", list(preprocessed_batch.__dataclass_fields__.keys()))\n",
                "\n",
                "print(preprocessed_batch.target_spans.shape)odel \n",
                "print(preprocessed_batch.prompt_input_ids[0].shape)\n",
                "preprocessed_batch.prompt_input_ids[0][0]\n",
                "preprocessed_batch.prompt_attention_mask[0][0]"
            ]
        }
    ],
    "metadata": {
        "kernelspec": {
            "display_name": ".motion-linner.venv",
            "language": "python",
            "name": "python3"
        },
        "language_info": {
            "codemirror_mode": {
                "name": "ipython",
                "version": 3
            },
            "file_extension": ".py",
            "mimetype": "text/x-python",
            "name": "python",
            "nbconvert_exporter": "python",
            "pygments_lexer": "ipython3",
            "version": "3.10.12"
        }
    },
    "nbformat": 4,
    "nbformat_minor": 5
}