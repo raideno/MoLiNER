{
 "cells": [
  {
   "cell_type": "code",
   "execution_count": 1,
   "id": "4c67530b",
   "metadata": {},
   "outputs": [],
   "source": [
    "%load_ext autoreload\n",
    "%autoreload 2"
   ]
  },
  {
   "cell_type": "code",
   "execution_count": 3,
   "id": "1d1d76de",
   "metadata": {},
   "outputs": [],
   "source": [
    "import sys\n",
    "\n",
    "if \"../\" not in sys.path:\n",
    "    sys.path.append(\"../\")\n",
    "    print(\"[sys.path]:\", sys.path)"
   ]
  },
  {
   "cell_type": "code",
   "execution_count": 8,
   "id": "f03dc448",
   "metadata": {},
   "outputs": [],
   "source": [
    "from src.data.hml3d import HML3DDataset\n",
    "from src.data.babel import BabelDataset"
   ]
  },
  {
   "cell_type": "code",
   "execution_count": 9,
   "id": "f625547d",
   "metadata": {},
   "outputs": [
    {
     "name": "stderr",
     "output_type": "stream",
     "text": [
      "Repo card metadata block was not found. Setting CardData to empty.\n",
      "Repo card metadata block was not found. Setting CardData to empty.\n"
     ]
    }
   ],
   "source": [
    "hml3d_dataset = HML3DDataset(\n",
    "    split=\"train\",\n",
    "    pipeline=\"hml3d\"\n",
    ")\n",
    "\n",
    "babel_dataset = BabelDataset(\n",
    "    split=\"train\",\n",
    "    pipeline=\"babel\"\n",
    ")"
   ]
  },
  {
   "cell_type": "code",
   "execution_count": 16,
   "id": "8e28bac6",
   "metadata": {},
   "outputs": [
    {
     "data": {
      "text/plain": [
       "[{'is_sequence': True,\n",
       "  'source': 'proc_label',\n",
       "  'span': [0, 209],\n",
       "  'text': 'hand rise'},\n",
       " {'is_sequence': True,\n",
       "  'source': 'raw_label',\n",
       "  'span': [0, 209],\n",
       "  'text': 'hand rise'},\n",
       " {'is_sequence': True,\n",
       "  'source': 'act_cat',\n",
       "  'span': [0, 209],\n",
       "  'text': 'raising body part'},\n",
       " {'is_sequence': True,\n",
       "  'source': 'act_cat',\n",
       "  'span': [0, 209],\n",
       "  'text': 'hand movements'}]"
      ]
     },
     "execution_count": 16,
     "metadata": {},
     "output_type": "execute_result"
    }
   ],
   "source": [
    "babel_dataset[0]['prompts']"
   ]
  },
  {
   "cell_type": "code",
   "execution_count": 15,
   "id": "c680d185",
   "metadata": {},
   "outputs": [
    {
     "data": {
      "text/plain": [
       "[{'is_sequence': True,\n",
       "  'source': 'texts',\n",
       "  'span': [0, 76],\n",
       "  'text': 'the toon is doing jumping jacks.'},\n",
       " {'is_sequence': True,\n",
       "  'source': 'texts',\n",
       "  'span': [0, 76],\n",
       "  'text': 'a person does jumping jacks in place.'},\n",
       " {'is_sequence': True,\n",
       "  'source': 'texts',\n",
       "  'span': [0, 76],\n",
       "  'text': 'a person does three jumping jacks.'}]"
      ]
     },
     "execution_count": 15,
     "metadata": {},
     "output_type": "execute_result"
    }
   ],
   "source": [
    "hml3d_dataset[0]['prompts']"
   ]
  }
 ],
 "metadata": {
  "kernelspec": {
   "display_name": ".venv",
   "language": "python",
   "name": "python3"
  },
  "language_info": {
   "codemirror_mode": {
    "name": "ipython",
    "version": 3
   },
   "file_extension": ".py",
   "mimetype": "text/x-python",
   "name": "python",
   "nbconvert_exporter": "python",
   "pygments_lexer": "ipython3",
   "version": "3.10.12"
  }
 },
 "nbformat": 4,
 "nbformat_minor": 5
}
