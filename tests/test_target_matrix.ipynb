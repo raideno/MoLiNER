{
 "cells": [
  {
   "cell_type": "code",
   "execution_count": null,
   "id": "f68c9a06",
   "metadata": {},
   "outputs": [],
   "source": [
    "%load_ext autoreload\n",
    "%autoreload 2"
   ]
  },
  {
   "cell_type": "code",
   "execution_count": 4,
   "id": "e469f5ed",
   "metadata": {},
   "outputs": [
    {
     "name": "stdout",
     "output_type": "stream",
     "text": [
      "[sys.path]: ['/usr/lib/python310.zip', '/usr/lib/python3.10', '/usr/lib/python3.10/lib-dynload', '', '/home/nadir/MoLiNER/.venv/lib/python3.10/site-packages', '../']\n"
     ]
    }
   ],
   "source": [
    "import sys\n",
    "\n",
    "if \"../\" not in sys.path:\n",
    "    sys.path.append(\"../\")\n",
    "    print(\"[sys.path]:\", sys.path)"
   ]
  },
  {
   "cell_type": "code",
   "execution_count": 1,
   "id": "1cb7401d",
   "metadata": {},
   "outputs": [],
   "source": [
    "import os\n",
    "import torch\n",
    "import pytest"
   ]
  },
  {
   "cell_type": "code",
   "execution_count": null,
   "id": "a4551b38",
   "metadata": {},
   "outputs": [
    {
     "name": "stderr",
     "output_type": "stream",
     "text": [
      "/home/nadir/MoLiNER/.venv/lib/python3.10/site-packages/tqdm/auto.py:21: TqdmWarning: IProgress not found. Please update jupyter and ipywidgets. See https://ipywidgets.readthedocs.io/en/stable/user_install.html\n",
      "  from .autonotebook import tqdm as notebook_tqdm\n"
     ]
    }
   ],
   "source": [
    "from src.types import ForwardOutput, ProcessedBatch\n",
    "from src.model.modules.losses.helpers.target_matrix import create_target_matrix, create_target_matrix_iou"
   ]
  },
  {
   "cell_type": "code",
   "execution_count": null,
   "id": "f1172547",
   "metadata": {},
   "outputs": [
    {
     "name": "stdout",
     "output_type": "stream",
     "text": [
      "[BATCH_SIZE]: 1\n",
      "[NUMBER_OF_PROMPTS]: 2\n",
      "[NUMBER_OF_CANDIDATE_SPANS]: 16\n",
      "[NUMBER_OF_GROUNDTRUTH_SPANS]: 4\n"
     ]
    }
   ],
   "source": [
    "BATCH_SIZE = 1\n",
    "NUMBER_OF_CANDIDATE_SPANS = 3\n",
    "NUMBER_OF_GROUNDTRUTH_SPANS = 1\n",
    "\n",
    "# NOTE: (batch_size, batch_max_spans_per_motion_in_batch, 2) -> [start_frame, end_frame]\n",
    "CANDIDATE_SPANS = torch.tensor([\n",
    "    [\n",
    "        # [0.0000, 0.0000, 0.0000, 0.0000, 0.0000, 0.0667, 0.1333, 0.2000, 0.0000, 0.0000, 0.0000, 0.0000, 0.0714, 0.1429, 0.2143, 0.2857]\n",
    "        [0, 1], [0, 2], [0, 3], [0, 4], [0, 5], [0, 6], [0, 7], [0, 8],\n",
    "        [1, 2], [1, 3], [1, 4], [1, 5], [1, 6], [1, 7], [1, 8], [1, 9],\n",
    "    ]\n",
    "])\n",
    "\n",
    "# NOTE: (batch_size, batch_max_prompts_per_motion, batch_max_spans_per_prompt, 2)\n",
    "TARGET_SPANS = torch.tensor([\n",
    "    [\n",
    "        # Prompt 1 Spans\n",
    "        [[0, 6], [1, 9], [5, 9], [8, 10]],\n",
    "        # Prompt 2 Spans\n",
    "        [[5, 15], [10, 20], [15, 25], [20, 30]]\n",
    "    ]\n",
    "])\n",
    "\n",
    "NUMBER_OF_PROMPTS = TARGET_SPANS.shape[1]\n",
    "NUMBER_OF_CANDIDATE_SPANS = CANDIDATE_SPANS.shape[1]\n",
    "NUMBER_OF_GROUNDTRUTH_SPANS = TARGET_SPANS.shape[2]\n",
    "\n",
    "print(f\"[BATCH_SIZE]: {BATCH_SIZE}\")\n",
    "print(f\"[NUMBER_OF_PROMPTS]: {NUMBER_OF_PROMPTS}\")\n",
    "print(f\"[NUMBER_OF_CANDIDATE_SPANS]: {NUMBER_OF_CANDIDATE_SPANS}\")\n",
    "print(f\"[NUMBER_OF_GROUNDTRUTH_SPANS]: {NUMBER_OF_GROUNDTRUTH_SPANS}\")\n",
    "\n",
    "TARGET_SPANS_PER_PROMPT_MASK = torch.tensor([\n",
    "    [\n",
    "        # Prompt 1\n",
    "        [True, True, True, True],\n",
    "        # Prompt 2\n",
    "        [True, False, False, False],\n",
    "    ]\n",
    "])\n",
    "\n",
    "SIMILARITY_MATRIX = torch.randn(BATCH_SIZE, NUMBER_OF_PROMPTS, NUMBER_OF_CANDIDATE_SPANS)\n",
    "CANDIDATE_SPANS_MASK = torch.ones(BATCH_SIZE, NUMBER_OF_CANDIDATE_SPANS)\n",
    "BATCH = ProcessedBatch(\n",
    "    sid=[1],\n",
    "    dataset_name=[\"test\"],\n",
    "    amass_relative_path=[\"test.npz\"],\n",
    "    motion_features=torch.randn(BATCH_SIZE, 100, 263),\n",
    "    motion_mask=torch.ones(BATCH_SIZE, 100),\n",
    "    prompt_input_ids=torch.zeros(BATCH_SIZE, NUMBER_OF_PROMPTS, 10, dtype=torch.long),\n",
    "    prompt_attention_mask=torch.ones(BATCH_SIZE, NUMBER_OF_PROMPTS, 10),\n",
    "    target_spans=TARGET_SPANS,\n",
    "    target_spans_mask=torch.ones(BATCH_SIZE, NUMBER_OF_PROMPTS),\n",
    "    target_spans_per_prompt_mask=TARGET_SPANS_PER_PROMPT_MASK,\n",
    "    is_sequence_prompt=torch.tensor([[True]])\n",
    ")\n",
    "FORWARD_OUTPUT = ForwardOutput(\n",
    "    similarity_matrix=SIMILARITY_MATRIX,\n",
    "    candidate_spans_indices=CANDIDATE_SPANS,\n",
    "    candidate_spans_mask=CANDIDATE_SPANS_MASK,\n",
    "    prompts_mask=torch.ones(BATCH_SIZE, NUMBER_OF_PROMPTS)\n",
    ")"
   ]
  },
  {
   "cell_type": "code",
   "execution_count": 86,
   "id": "499c41cf",
   "metadata": {},
   "outputs": [
    {
     "name": "stdout",
     "output_type": "stream",
     "text": [
      "[similarity_matrix](torch.Size([1, 2, 16])):\n",
      "tensor([[[-0.5770, -0.5185,  0.0646,  0.6118,  0.0308, -0.9128, -0.2207, -0.2385,  0.1002,  0.7006,  1.5171,  0.5459,\n",
      "           0.1438, -0.1433,  0.4278, -0.9865],\n",
      "         [ 0.3034, -2.3233,  0.2672,  0.8642, -0.1742, -0.9976, -0.7267,  0.6877, -0.1816, -1.4061,  1.6194, -0.7558,\n",
      "           0.0813,  0.8257,  1.1304, -1.3611]]])\n"
     ]
    }
   ],
   "source": [
    "print(f\"[similarity_matrix]({SIMILARITY_MATRIX.shape}):\")\n",
    "print(SIMILARITY_MATRIX)"
   ]
  },
  {
   "cell_type": "code",
   "execution_count": null,
   "id": "fa2732d6",
   "metadata": {},
   "outputs": [
    {
     "name": "stdout",
     "output_type": "stream",
     "text": [
      "[iou_target_matrix](torch.Size([1, 2, 16])):\n",
      "tensor([[[0.1667, 0.3333, 0.5000, 0.6667, 0.8333, 1.0000, 0.8571, 0.7778, 0.1667, 0.3333, 0.5000, 0.6667, 0.8333,\n",
      "          0.7500, 0.8750, 1.0000],\n",
      "         [0.0000, 0.0000, 0.0000, 0.0000, 0.0000, 0.0667, 0.1333, 0.2000, 0.0000, 0.0000, 0.0000, 0.0000, 0.0714,\n",
      "          0.1429, 0.2143, 0.2857]]])\n",
      "\n",
      "[target_matrix](torch.Size([1, 2, 16])):\n",
      "tensor([[[0., 0., 0., 0., 0., 1., 0., 0., 0., 0., 0., 0., 0., 0., 0., 1.],\n",
      "         [0., 0., 0., 0., 0., 0., 0., 0., 0., 0., 0., 0., 0., 0., 0., 0.]]])\n"
     ]
    }
   ],
   "source": [
    "iou_target_matrix, _ = create_target_matrix_iou(FORWARD_OUTPUT, BATCH, iou_threshold=.0)\n",
    "target_matrix, _ = create_target_matrix(FORWARD_OUTPUT, BATCH, 1.0)\n",
    "\n",
    "torch.set_printoptions(precision=4, sci_mode=False, linewidth=120)\n",
    "\n",
    "print(f\"[iou_target_matrix]({iou_target_matrix.shape}):\")\n",
    "print(iou_target_matrix)\n",
    "\n",
    "print()\n",
    "\n",
    "print(f\"[target_matrix]({target_matrix.shape}):\")\n",
    "print(target_matrix)"
   ]
  }
 ],
 "metadata": {
  "kernelspec": {
   "display_name": ".venv",
   "language": "python",
   "name": "python3"
  },
  "language_info": {
   "codemirror_mode": {
    "name": "ipython",
    "version": 3
   },
   "file_extension": ".py",
   "mimetype": "text/x-python",
   "name": "python",
   "nbconvert_exporter": "python",
   "pygments_lexer": "ipython3",
   "version": "3.10.12"
  }
 },
 "nbformat": 4,
 "nbformat_minor": 5
}
