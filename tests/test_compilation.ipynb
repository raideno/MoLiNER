{
 "cells": [
  {
   "cell_type": "code",
   "execution_count": 1,
   "id": "50c8e027",
   "metadata": {},
   "outputs": [],
   "source": [
    "%load_ext autoreload\n",
    "%autoreload 2"
   ]
  },
  {
   "cell_type": "code",
   "execution_count": 2,
   "id": "cbd80366",
   "metadata": {},
   "outputs": [
    {
     "name": "stdout",
     "output_type": "stream",
     "text": [
      "[sys.path]: ['/usr/lib/python310.zip', '/usr/lib/python3.10', '/usr/lib/python3.10/lib-dynload', '', '/home/nadir/MoLiNER/.venv/lib/python3.10/site-packages', '../']\n"
     ]
    }
   ],
   "source": [
    "import sys\n",
    "\n",
    "if \"../\" not in sys.path:\n",
    "    sys.path.append(\"../\")\n",
    "    print(\"[sys.path]:\", sys.path)"
   ]
  },
  {
   "cell_type": "code",
   "execution_count": 3,
   "id": "5d9ae06c",
   "metadata": {},
   "outputs": [],
   "source": [
    "import torch"
   ]
  },
  {
   "cell_type": "code",
   "execution_count": 4,
   "id": "240654ea",
   "metadata": {},
   "outputs": [
    {
     "name": "stderr",
     "output_type": "stream",
     "text": [
      "/home/nadir/MoLiNER/.venv/lib/python3.10/site-packages/tqdm/auto.py:21: TqdmWarning: IProgress not found. Please update jupyter and ipywidgets. See https://ipywidgets.readthedocs.io/en/stable/user_install.html\n",
      "  from .autonotebook import tqdm as notebook_tqdm\n"
     ]
    }
   ],
   "source": [
    "from src.model.moliner import MoLiNER\n",
    "\n",
    "from src.model.modules.motion_frames_encoders import TMRMotionFramesEncoder\n",
    "from src.model.modules.prompts_tokens_encoders import CLIPPromptsTokensEncoder\n",
    "from src.model.modules.prompt_representation_layers import MLPPromptRepresentationLayer\n",
    "from src.model.modules.span_representation_layers import EndpointsSpanRepresentationLayer\n",
    "from src.model.modules.scorers import ProductPairScorer\n",
    "from src.model.modules.optimizers import AdamOptimizer\n",
    "from src.model.modules.decoders import GreedyDecoder\n",
    "from src.model.modules.spans_generators.static import StaticSpansGenerator\n",
    "\n",
    "from src.model.losses import FocalLoss"
   ]
  },
  {
   "cell_type": "code",
   "execution_count": 5,
   "id": "2febf2c3",
   "metadata": {},
   "outputs": [],
   "source": [
    "model = MoLiNER(\n",
    "    motion_frames_encoder=TMRMotionFramesEncoder(frozen=False, pretrained=False),\n",
    "    prompts_tokens_encoder=CLIPPromptsTokensEncoder(frozen=True),\n",
    "    prompt_representation_layer=MLPPromptRepresentationLayer(input_dim=512, representation_dim=256, dropout=0.4),\n",
    "    span_representation_layer=EndpointsSpanRepresentationLayer(motion_embed_dim=256, representation_dim=256, dropout=0.4),\n",
    "    scorer=ProductPairScorer(),\n",
    "    optimizer=AdamOptimizer({\n",
    "        \"scratch\": 5e-5,\n",
    "        \"pretrained\": 1e-5\n",
    "    }),\n",
    "    decoder=GreedyDecoder(),\n",
    "    spans_generator=StaticSpansGenerator(max_width=10, min_width=1, padding_value=-1),\n",
    "    loss=FocalLoss(\n",
    "        alpha=0.25,\n",
    "        gamma=2.0,\n",
    "        # NOTE: 'none', 'mean', 'sum'\n",
    "        reduction=\"sum\",\n",
    "        label_smoothing=0.0,\n",
    "        # NOTE: 'labels', 'global', 'span'\n",
    "        negatives_type=\"labels\",\n",
    "        negatives_probability=1.0,\n",
    "        ignore_index=-100,\n",
    "        threshold=0.75,\n",
    "    )\n",
    ").to(\"cuda:1\")"
   ]
  },
  {
   "cell_type": "code",
   "execution_count": 6,
   "id": "f254e6ec",
   "metadata": {},
   "outputs": [
    {
     "name": "stdout",
     "output_type": "stream",
     "text": [
      "Allocated: 0.00 MB\n",
      "Reserved: 0.00 MB\n"
     ]
    }
   ],
   "source": [
    "print(f\"Allocated: {torch.cuda.memory_allocated() / 1024**2:.2f} MB\")\n",
    "print(f\"Reserved: {torch.cuda.memory_reserved() / 1024**2:.2f} MB\")"
   ]
  },
  {
   "cell_type": "code",
   "execution_count": 7,
   "id": "47d073cb",
   "metadata": {},
   "outputs": [],
   "source": [
    "model = model.eval()"
   ]
  },
  {
   "cell_type": "code",
   "execution_count": 8,
   "id": "c2f6bec3",
   "metadata": {},
   "outputs": [],
   "source": [
    "compiled = torch.compile(model, fullgraph=True)"
   ]
  },
  {
   "cell_type": "code",
   "execution_count": 9,
   "id": "57e5eed0",
   "metadata": {},
   "outputs": [],
   "source": [
    "import os\n",
    "\n",
    "os.environ[\"TORCHDYNAMO_VERBOSE\"] = \"1\""
   ]
  },
  {
   "cell_type": "code",
   "execution_count": 10,
   "id": "9584f74b",
   "metadata": {},
   "outputs": [],
   "source": [
    "from src.types import RawBatch, ProcessedBatch\n",
    "\n",
    "raw_batch = RawBatch.create_random()\n",
    "processed_batch = ProcessedBatch.from_raw_batch(raw_batch, encoder=model.prompts_tokens_encoder).to(\"cuda:1\")"
   ]
  },
  {
   "cell_type": "code",
   "execution_count": 11,
   "id": "985a7469",
   "metadata": {},
   "outputs": [
    {
     "ename": "Unsupported",
     "evalue": "torch.* op returned non-Tensor bool call_function <built-in method _nested_tensor_from_mask_left_aligned of type object at 0x77b9c6da0f40>\n\nfrom user code:\n   File \"/home/nadir/MoLiNER/tests/../src/model/moliner.py\", line 98, in forward\n    motion_frames_embeddings = self.motion_frames_encoder.forward(\n  File \"/home/nadir/MoLiNER/tests/../src/model/modules/motion_frames_encoders/tmr.py\", line 82, in forward\n    cls_token, full_sequence = self.tmr_encoder.forward(\n  File \"/home/nadir/MoLiNER/tests/../src/model/helpers/actor.py\", line 113, in forward\n    final = self.seqTransEncoder(xseq, src_key_padding_mask=(aug_mask == 0).to(torch.bool))\n  File \"/home/nadir/MoLiNER/.venv/lib/python3.10/site-packages/torch/nn/modules/transformer.py\", line 457, in forward\n    ) and not torch._nested_tensor_from_mask_left_aligned(\n\nSet TORCHDYNAMO_VERBOSE=1 for the internal stack trace (please do this especially if you're reporting a bug to PyTorch). For even more developer context, set TORCH_LOGS=\"+dynamo\"\n",
     "output_type": "error",
     "traceback": [
      "\u001b[0;31m---------------------------------------------------------------------------\u001b[0m",
      "\u001b[0;31mUnsupported\u001b[0m                               Traceback (most recent call last)",
      "Cell \u001b[0;32mIn[11], line 2\u001b[0m\n\u001b[1;32m      1\u001b[0m normal_model_output \u001b[38;5;241m=\u001b[39m model\u001b[38;5;241m.\u001b[39mforward(processed_batch)\n\u001b[0;32m----> 2\u001b[0m compiled_model_output \u001b[38;5;241m=\u001b[39m \u001b[43mcompiled\u001b[49m\u001b[38;5;241;43m.\u001b[39;49m\u001b[43mforward\u001b[49m\u001b[43m(\u001b[49m\u001b[43mprocessed_batch\u001b[49m\u001b[43m)\u001b[49m\n",
      "File \u001b[0;32m~/MoLiNER/.venv/lib/python3.10/site-packages/torch/_dynamo/eval_frame.py:659\u001b[0m, in \u001b[0;36m_TorchDynamoContext.__call__.<locals>._fn\u001b[0;34m(*args, **kwargs)\u001b[0m\n\u001b[1;32m    657\u001b[0m     \u001b[38;5;28;01mif\u001b[39;00m config\u001b[38;5;241m.\u001b[39mverbose:\n\u001b[1;32m    658\u001b[0m         \u001b[38;5;28;01mraise\u001b[39;00m\n\u001b[0;32m--> 659\u001b[0m     \u001b[38;5;28;01mraise\u001b[39;00m e\u001b[38;5;241m.\u001b[39mwith_traceback(\u001b[38;5;28;01mNone\u001b[39;00m) \u001b[38;5;28;01mfrom\u001b[39;00m\u001b[38;5;250m \u001b[39m\u001b[38;5;28;01mNone\u001b[39;00m\n\u001b[1;32m    660\u001b[0m \u001b[38;5;28;01mexcept\u001b[39;00m ShortenTraceback \u001b[38;5;28;01mas\u001b[39;00m e:\n\u001b[1;32m    661\u001b[0m     \u001b[38;5;66;03m# Failures in the backend likely don't have useful\u001b[39;00m\n\u001b[1;32m    662\u001b[0m     \u001b[38;5;66;03m# data in the TorchDynamo frames, so we strip them out.\u001b[39;00m\n\u001b[1;32m    663\u001b[0m     \u001b[38;5;28;01mraise\u001b[39;00m e\u001b[38;5;241m.\u001b[39mremove_dynamo_frames() \u001b[38;5;28;01mfrom\u001b[39;00m\u001b[38;5;250m \u001b[39m\u001b[38;5;28;01mNone\u001b[39;00m  \u001b[38;5;66;03m# see TORCHDYNAMO_VERBOSE=1\u001b[39;00m\n",
      "\u001b[0;31mUnsupported\u001b[0m: torch.* op returned non-Tensor bool call_function <built-in method _nested_tensor_from_mask_left_aligned of type object at 0x77b9c6da0f40>\n\nfrom user code:\n   File \"/home/nadir/MoLiNER/tests/../src/model/moliner.py\", line 98, in forward\n    motion_frames_embeddings = self.motion_frames_encoder.forward(\n  File \"/home/nadir/MoLiNER/tests/../src/model/modules/motion_frames_encoders/tmr.py\", line 82, in forward\n    cls_token, full_sequence = self.tmr_encoder.forward(\n  File \"/home/nadir/MoLiNER/tests/../src/model/helpers/actor.py\", line 113, in forward\n    final = self.seqTransEncoder(xseq, src_key_padding_mask=(aug_mask == 0).to(torch.bool))\n  File \"/home/nadir/MoLiNER/.venv/lib/python3.10/site-packages/torch/nn/modules/transformer.py\", line 457, in forward\n    ) and not torch._nested_tensor_from_mask_left_aligned(\n\nSet TORCHDYNAMO_VERBOSE=1 for the internal stack trace (please do this especially if you're reporting a bug to PyTorch). For even more developer context, set TORCH_LOGS=\"+dynamo\"\n"
     ]
    }
   ],
   "source": [
    "normal_model_output = model.forward(processed_batch)\n",
    "compiled_model_output = compiled.forward(processed_batch)"
   ]
  },
  {
   "cell_type": "code",
   "execution_count": 60,
   "id": "e00cd8d6",
   "metadata": {},
   "outputs": [
    {
     "name": "stdout",
     "output_type": "stream",
     "text": [
      "tensor(0.5017, device='cuda:1', grad_fn=<SelectBackward0>)\n",
      "tensor(0.5017, device='cuda:1', grad_fn=<SelectBackward0>)\n"
     ]
    }
   ],
   "source": [
    "index = 0, 0, 3\n",
    "\n",
    "print(normal_model_output.similarity_matrix[index])\n",
    "print(compiled_model_output.similarity_matrix[index])"
   ]
  },
  {
   "cell_type": "code",
   "execution_count": 43,
   "id": "a506daa0",
   "metadata": {},
   "outputs": [
    {
     "data": {
      "text/plain": [
       "False"
      ]
     },
     "execution_count": 43,
     "metadata": {},
     "output_type": "execute_result"
    }
   ],
   "source": [
    "torch.allclose(normal_model_output.similarity_matrix, compiled_model_output.similarity_matrix, atol=1e-6)"
   ]
  }
 ],
 "metadata": {
  "kernelspec": {
   "display_name": ".venv",
   "language": "python",
   "name": "python3"
  },
  "language_info": {
   "codemirror_mode": {
    "name": "ipython",
    "version": 3
   },
   "file_extension": ".py",
   "mimetype": "text/x-python",
   "name": "python",
   "nbconvert_exporter": "python",
   "pygments_lexer": "ipython3",
   "version": "3.10.12"
  }
 },
 "nbformat": 4,
 "nbformat_minor": 5
}
