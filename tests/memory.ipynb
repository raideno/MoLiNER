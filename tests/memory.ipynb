{
 "cells": [
  {
   "cell_type": "code",
   "execution_count": 1,
   "id": "25e73d5f",
   "metadata": {},
   "outputs": [],
   "source": [
    "%load_ext autoreload\n",
    "%autoreload 2"
   ]
  },
  {
   "cell_type": "code",
   "execution_count": 2,
   "id": "48626483",
   "metadata": {},
   "outputs": [
    {
     "name": "stdout",
     "output_type": "stream",
     "text": [
      "[sys.path]: ['/usr/lib/python310.zip', '/usr/lib/python3.10', '/usr/lib/python3.10/lib-dynload', '', '/home/nadir/MoLiNER/.venv/lib/python3.10/site-packages', '../']\n"
     ]
    }
   ],
   "source": [
    "import sys\n",
    "\n",
    "if \"../\" not in sys.path:\n",
    "    sys.path.append(\"../\")\n",
    "    print(\"[sys.path]:\", sys.path)"
   ]
  },
  {
   "cell_type": "code",
   "execution_count": 8,
   "id": "bedcb238",
   "metadata": {},
   "outputs": [
    {
     "name": "stderr",
     "output_type": "stream",
     "text": [
      "Repo card metadata block was not found. Setting CardData to empty.\n",
      "Repo card metadata block was not found. Setting CardData to empty.\n"
     ]
    }
   ],
   "source": [
    "from src.data.mixed_new import MixedDataset\n",
    "\n",
    "dataset = MixedDataset(\n",
    "    split=\"train\",\n",
    "    hml3d_pipeline=\"max-1024-hml3d\",\n",
    "    babel_pipeline=\"locate\",\n",
    "    interleave= True,\n",
    "    # max_hml3d_samples=None,\n",
    "    # max_babel_samples=None,\n",
    "    shuffle=False,\n",
    ")"
   ]
  },
  {
   "cell_type": "code",
   "execution_count": 24,
   "id": "daeb8354",
   "metadata": {},
   "outputs": [
    {
     "name": "stdout",
     "output_type": "stream",
     "text": [
      "[source]: hml3d\n"
     ]
    },
    {
     "data": {
      "text/plain": [
       "[{'is_sequence': True,\n",
       "  'source': 'texts',\n",
       "  'span': [216, 415],\n",
       "  'text': 'individual appears to be using arms to bounce an object with the left hand.'},\n",
       " {'is_sequence': True,\n",
       "  'source': 'texts',\n",
       "  'span': [216, 415],\n",
       "  'text': 'person is using their left arm to dodge a punch'},\n",
       " {'is_sequence': True,\n",
       "  'source': 'texts',\n",
       "  'span': [216, 415],\n",
       "  'text': 'someone is karate chopping with their left hand while blocking their face with their right hand.'}]"
      ]
     },
     "execution_count": 24,
     "metadata": {},
     "output_type": "execute_result"
    }
   ],
   "source": [
    "index = 4\n",
    "\n",
    "print(\"[source]:\", \"babel\" if dataset[index].get(\"sequence_annotations\") is not None else \"hml3d\")\n",
    "\n",
    "dataset[index][\"prompts\"]"
   ]
  },
  {
   "cell_type": "code",
   "execution_count": null,
   "id": "89f9de61",
   "metadata": {},
   "outputs": [],
   "source": [
    "import torch"
   ]
  },
  {
   "cell_type": "code",
   "execution_count": null,
   "id": "319244f5",
   "metadata": {},
   "outputs": [],
   "source": [
    "BATCH_SIZE = 4\n",
    "NUMBER_OF_SPANS = 240000\n",
    "\n",
    "data = torch.randn(BATCH_SIZE, NUMBER_OF_SPANS, 256)\n",
    "\n",
    "print(\"[data.shape]:\", data.shape)"
   ]
  },
  {
   "cell_type": "code",
   "execution_count": 7,
   "id": "9c63f282",
   "metadata": {},
   "outputs": [],
   "source": [
    "from src.data.mixed import MixedDataset"
   ]
  },
  {
   "cell_type": "code",
   "execution_count": 8,
   "id": "aaaee49a",
   "metadata": {},
   "outputs": [
    {
     "name": "stderr",
     "output_type": "stream",
     "text": [
      "Repo card metadata block was not found. Setting CardData to empty.\n",
      "Repo card metadata block was not found. Setting CardData to empty.\n"
     ]
    }
   ],
   "source": [
    "dataset = MixedDataset(\n",
    "    split=\"train\",\n",
    "    hml3d_pipeline=\"hml3d\",\n",
    "    babel_pipeline=\"locate\"\n",
    ")"
   ]
  },
  {
   "cell_type": "code",
   "execution_count": 9,
   "id": "9cbe2db6",
   "metadata": {},
   "outputs": [
    {
     "name": "stdout",
     "output_type": "stream",
     "text": [
      "[dataset]: 15360\n"
     ]
    }
   ],
   "source": [
    "print(\"[dataset]:\", len(dataset))"
   ]
  }
 ],
 "metadata": {
  "kernelspec": {
   "display_name": ".venv",
   "language": "python",
   "name": "python3"
  },
  "language_info": {
   "codemirror_mode": {
    "name": "ipython",
    "version": 3
   },
   "file_extension": ".py",
   "mimetype": "text/x-python",
   "name": "python",
   "nbconvert_exporter": "python",
   "pygments_lexer": "ipython3",
   "version": "3.10.12"
  }
 },
 "nbformat": 4,
 "nbformat_minor": 5
}
